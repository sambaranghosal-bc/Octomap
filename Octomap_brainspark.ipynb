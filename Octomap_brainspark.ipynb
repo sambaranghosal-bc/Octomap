{
 "cells": [
  {
   "metadata": {},
   "cell_type": "markdown",
   "source": "# Brain Spark : Octomap",
   "id": "a24f52f9862f0cbe"
  },
  {
   "metadata": {},
   "cell_type": "markdown",
   "source": "## 1. Space of map saved on disk comparison",
   "id": "cd1e3eb98050084b"
  },
  {
   "cell_type": "code",
   "id": "5f5abb8a-d65e-4de3-a41b-0e2afc1ed7c9",
   "metadata": {
    "ExecuteTime": {
     "end_time": "2024-06-12T04:20:18.813200Z",
     "start_time": "2024-06-12T04:20:15.864804Z"
    }
   },
   "source": [
    "import numpy as np\n",
    "import open3d as o3d\n",
    "import os\n",
    "from scripts.regular_voxel_grid import RegularVoxelGrid, visualize_voxel_grid"
   ],
   "outputs": [
    {
     "name": "stdout",
     "output_type": "stream",
     "text": [
      "Jupyter environment detected. Enabling Open3D WebVisualizer.\n",
      "[Open3D INFO] WebRTC GUI backend enabled.\n",
      "[Open3D INFO] WebRTCWindowSystem: HTTP handshake server disabled.\n"
     ]
    }
   ],
   "execution_count": 1
  },
  {
   "cell_type": "code",
   "id": "96c3f980-2dc9-4261-bfab-185fb8cf25ff",
   "metadata": {
    "ExecuteTime": {
     "end_time": "2024-06-09T21:01:21.566535Z",
     "start_time": "2024-06-09T21:01:21.564084Z"
    }
   },
   "source": "voxel_grid = RegularVoxelGrid(resolution=0.25, max_coord=10, min_coord=-10)",
   "outputs": [],
   "execution_count": 3
  },
  {
   "cell_type": "code",
   "id": "5b4da8a2-92a5-462e-87b4-dce549ee1748",
   "metadata": {
    "ExecuteTime": {
     "end_time": "2024-06-09T21:01:23.738516Z",
     "start_time": "2024-06-09T21:01:21.567272Z"
    }
   },
   "source": [
    "voxel_grid.create_regular_voxel_map()\n",
    "visualize_voxel_grid(voxel_grid.get_voxel_grid_points())"
   ],
   "outputs": [],
   "execution_count": 4
  },
  {
   "cell_type": "code",
   "id": "51162010-bb99-4e1a-9d89-aa9095aa5d43",
   "metadata": {
    "ExecuteTime": {
     "end_time": "2024-06-09T22:39:11.231920Z",
     "start_time": "2024-06-09T22:39:11.195719Z"
    }
   },
   "source": [
    "voxel_grid.save_voxel_grid_ply()\n",
    "print(f\"Saved voxel map representation space : {voxel_grid.get_saved_voxel_map_disk_size()} MB\")"
   ],
   "outputs": [
    {
     "name": "stdout",
     "output_type": "stream",
     "text": [
      "Saved voxel map representation space : 1.0029869079589844 MB\n"
     ]
    }
   ],
   "execution_count": 23
  },
  {
   "cell_type": "code",
   "id": "f15b64d1-2b70-4939-8261-a516253a7d88",
   "metadata": {
    "ExecuteTime": {
     "end_time": "2024-06-09T21:01:23.838702Z",
     "start_time": "2024-06-09T21:01:23.786408Z"
    }
   },
   "source": "voxel_grid.write_voxel_grid_points_to_txt()\n",
   "outputs": [],
   "execution_count": 7
  },
  {
   "cell_type": "markdown",
   "id": "ad6b2231-83bb-48e3-9d7b-9fa61fa57b6a",
   "metadata": {},
   "source": "### Creating the octomap in CPP and saving it to disk"
  },
  {
   "cell_type": "code",
   "id": "9a6853c1-6714-4567-91c0-f2aa51736d72",
   "metadata": {
    "scrolled": true,
    "ExecuteTime": {
     "end_time": "2024-06-09T22:37:49.674653Z",
     "start_time": "2024-06-09T22:37:46.267567Z"
    }
   },
   "source": [
    "# Create an Open3D Octree for visualization first\n",
    "octree = o3d.geometry.Octree(max_depth=8)  # The tree is stopped when the depth level reaches 8\n",
    "pcd = o3d.geometry.PointCloud()\n",
    "pcd.points = o3d.utility.Vector3dVector(voxel_grid.get_voxel_grid_points())\n",
    "octree.convert_from_point_cloud(pcd, size_expand=0.02)\n",
    "\n",
    "# Visualize the Octree\n",
    "o3d.visualization.draw_geometries([octree])"
   ],
   "outputs": [],
   "execution_count": 19
  },
  {
   "cell_type": "markdown",
   "id": "81a6cae0-9be4-494b-8b6f-62e6fae32fab",
   "metadata": {},
   "source": [
    "Since open3d does not allow us to save the octree, I am going to use the official Octomap repository to create the same octomap using the above points, and then save it to a usable binary file. And then check the saved file size. "
   ]
  },
  {
   "metadata": {
    "ExecuteTime": {
     "end_time": "2024-06-09T22:38:04.092182Z",
     "start_time": "2024-06-09T22:38:01.819077Z"
    }
   },
   "cell_type": "code",
   "source": [
    "!cp simple_example.cpp OCTOMAP/octomap/src\n",
    "if not os.path.exists('OCTOMAP/build'):\n",
    "    os.makedirs('OCTOMAP/build', exist_ok=True)\n",
    "!cd OCTOMAP/build && cmake .. && make\n",
    "!./OCTOMAP/bin/simple_example  # will create the octomap corresponding to above voxel grid points and save it to a binary file"
   ],
   "id": "bd740c32c1634936",
   "outputs": [
    {
     "name": "stdout",
     "output_type": "stream",
     "text": [
      "\u001B[0mCMake Deprecation Warning at CMakeLists.txt:1 (CMAKE_MINIMUM_REQUIRED):\r\n",
      "  Compatibility with CMake < 3.5 will be removed from a future version of\r\n",
      "  CMake.\r\n",
      "\r\n",
      "  Update the VERSION argument <min> value or use a ...<max> suffix to tell\r\n",
      "  CMake that the project does not need compatibility with older versions.\r\n",
      "\r\n",
      "\u001B[0m\r\n",
      "-- \r\n",
      "\r\n",
      "-- octomap building as Release\r\n",
      "-- Could NOT find Doxygen (missing: DOXYGEN_EXECUTABLE) \r\n",
      "-- \r\n",
      "\r\n",
      "-- Compile octomap using: make\r\n",
      "-- Install octomap using: make install\r\n",
      "--     (be sure to set the correct CMAKE_INSTALL_PREFIX before)\r\n",
      "-- Compile API-documentation using: make docs\r\n",
      "\r\n",
      "-- \r\n",
      "\r\n",
      "-- octovis building as Release\r\n",
      "-- Found octomap version: 1.10.0\r\n",
      "-- Could NOT find OpenGL (missing: OPENGL_opengl_LIBRARY OPENGL_glx_LIBRARY OPENGL_INCLUDE_DIR) \r\n",
      "-- QGLViewer includes found in /home/sambaran.ghosal/BrainCorp/Sambaran/development/octomap/OCTOMAP/octovis/src/extern/QGLViewer\r\n",
      "-- QGLViewer library not found.\r\n",
      "-- Trying to build libQGLViewer from source in /home/sambaran.ghosal/BrainCorp/Sambaran/development/octomap/OCTOMAP/octovis/src/extern/QGLViewer\r\n",
      "-- \t generating Makefile using qmake\r\n",
      "-- \t building library (this may take some time...)\r\n",
      "make: *** No targets specified and no makefile found.  Stop.\r\n",
      "\u001B[33mCMake Warning at octovis/CMakeModules/FindQGLViewer.cmake:111 (MESSAGE):\r\n",
      "  Could not find libQGLViewer.so, failed to build?\r\n",
      "Call Stack (most recent call first):\r\n",
      "  octovis/CMakeLists.txt:80 (FIND_PACKAGE)\r\n",
      "\r\n",
      "\u001B[0m\r\n",
      "\u001B[0m\r\n",
      "\u001B[0m\r\n",
      "\u001B[0mlibQGLViewer could not be found or generated.\u001B[0m\r\n",
      "\u001B[0mUnfortunately, the viewer (octovis) can not be built because some requirements are missing.\u001B[0m\r\n",
      "\u001B[0mThis will not affect the compilation of the stand-alone library and tools (octomap)\u001B[0m\r\n",
      "\u001B[0mSee README.txt or http://octomap.sf.net for further information.\r\n",
      "\u001B[0m\r\n",
      "-- \r\n",
      "\r\n",
      "-- dynamicEDT3D building as Release\r\n",
      "-- Found octomap version: 1.10.0\r\n",
      "-- octomap libraries: /home/sambaran.ghosal/BrainCorp/Sambaran/development/octomap/OCTOMAP/lib/liboctomap.so;/home/sambaran.ghosal/BrainCorp/Sambaran/development/octomap/OCTOMAP/lib/liboctomath.so\r\n",
      "-- Could NOT find Doxygen (missing: DOXYGEN_EXECUTABLE) \r\n",
      "-- \r\n",
      "\r\n",
      "-- Compile dynamicEDT3D using: make\r\n",
      "-- Install dynamicEDT3D using: make install\r\n",
      "--     (be sure to set the correct CMAKE_INSTALL_PREFIX before)\r\n",
      "-- Compile API-documentation using: make docs_dynamicEDT3D\r\n",
      "\r\n",
      "-- Configuring done (0.1s)\r\n",
      "-- Generating done (0.0s)\r\n",
      "-- Build files have been written to: /home/sambaran.ghosal/BrainCorp/Sambaran/development/octomap/OCTOMAP/build\r\n",
      "[  4%] Built target octomath\r\n",
      "[  9%] Built target octomath-static\r\n",
      "[ 21%] Built target octomap\r\n",
      "[ 33%] Built target octomap-static\r\n",
      "[ 35%] Built target graph2tree\r\n",
      "[ 38%] Built target log2graph\r\n",
      "[ 40%] Built target binvox2bt\r\n",
      "[ 42%] Built target bt2vrml\r\n",
      "[ 45%] Built target edit_octree\r\n",
      "[ 47%] Built target convert_octree\r\n",
      "[ 50%] Built target eval_octree_accuracy\r\n",
      "[ 52%] Built target compare_octrees\r\n",
      "[ 53%] \u001B[32mBuilding CXX object octomap/src/CMakeFiles/simple_example.dir/simple_example.cpp.o\u001B[0m\r\n",
      "[ 54%] \u001B[32m\u001B[1mLinking CXX executable /home/sambaran.ghosal/BrainCorp/Sambaran/development/octomap/OCTOMAP/bin/simple_example\u001B[0m\r\n",
      "[ 54%] Built target simple_example\r\n",
      "[ 57%] Built target normals_example\r\n",
      "[ 59%] Built target intersection_example\r\n",
      "[ 61%] Built target octree2pointcloud\r\n",
      "[ 64%] Built target test_raycasting\r\n",
      "[ 66%] Built target test_iterators\r\n",
      "[ 69%] Built target test_io\r\n",
      "[ 71%] Built target test_changedkeys\r\n",
      "[ 73%] Built target test_scans\r\n",
      "[ 76%] Built target test_color_tree\r\n",
      "[ 78%] Built target color_tree_histogram\r\n",
      "[ 80%] Built target test_mapcollection\r\n",
      "[ 83%] Built target test_pruning\r\n",
      "[ 85%] Built target test_bbx\r\n",
      "[ 88%] Built target unit_tests\r\n",
      "[ 90%] Built target dynamicedt3d\r\n",
      "[ 92%] Built target dynamicedt3d-static\r\n",
      "[ 95%] Built target exampleEDT3D\r\n",
      "[ 97%] Built target exampleEDTOctomap\r\n",
      "[100%] Built target exampleEDTOctomapStamped\r\n",
      "resolution: 0.25\r\n",
      "Octree created and saved to octree_from_point_cloud.bt\r\n"
     ]
    }
   ],
   "execution_count": 20
  },
  {
   "cell_type": "code",
   "id": "7dad4e53-4c62-4f64-9026-ffc8448c8438",
   "metadata": {
    "ExecuteTime": {
     "end_time": "2024-06-09T22:39:32.213008Z",
     "start_time": "2024-06-09T22:39:32.207856Z"
    }
   },
   "source": "print(f\"Saved octomap space: {os.path.getsize('OCTOMAP/bin/octree_from_point_cloud.bt') / (1024 * 1024)} MB\")",
   "outputs": [
    {
     "name": "stdout",
     "output_type": "stream",
     "text": [
      "Saved octomap space: 0.0643758773803711 MB\n"
     ]
    }
   ],
   "execution_count": 24
  },
  {
   "metadata": {
    "ExecuteTime": {
     "end_time": "2024-06-09T22:38:18.624808Z",
     "start_time": "2024-06-09T22:38:11.826856Z"
    }
   },
   "cell_type": "code",
   "source": [
    "# Visualize the octomap\n",
    "!octovis OCTOMAP/bin/octree_from_point_cloud.bt"
   ],
   "id": "1eb3660e1248444d",
   "outputs": [
    {
     "name": "stdout",
     "output_type": "stream",
     "text": [
      "Reading binary octree type OcTree\r\n"
     ]
    }
   ],
   "execution_count": 22
  },
  {
   "metadata": {},
   "cell_type": "markdown",
   "source": "## 2. Dynamically adding points comparison",
   "id": "e8197866c2532d6b"
  },
  {
   "metadata": {
    "ExecuteTime": {
     "end_time": "2024-06-09T22:41:51.401196Z",
     "start_time": "2024-06-09T22:41:51.398575Z"
    }
   },
   "cell_type": "code",
   "source": "### Another advantage of using octomap is that we can dynamically add points to the octomap and update it, no matter if the current point being added is very far from the existing points. In a regular voxel grid, if we want to add a point that is out of bounds from the initialized voxel grid space, we need to reinitialize the voxel grid with a larger space. This would require us to reinitialize the voxel grid and save it to disk again.",
   "id": "9d1b41bcd903a54f",
   "outputs": [],
   "execution_count": 25
  },
  {
   "metadata": {
    "ExecuteTime": {
     "end_time": "2024-06-09T22:42:42.009055Z",
     "start_time": "2024-06-09T22:42:41.986697Z"
    }
   },
   "cell_type": "code",
   "source": [
    "# Add a point to the voxel grid\n",
    "voxel_grid.add_point_to_voxel_grid(np.array([20, -6, 0]))  # This point is out of bounds of the current voxel grid space. Hence trying to add will result in an error"
   ],
   "id": "1ac61336d0691feb",
   "outputs": [
    {
     "ename": "IndexError",
     "evalue": "index 120 is out of bounds for axis 0 with size 80",
     "output_type": "error",
     "traceback": [
      "\u001B[0;31m---------------------------------------------------------------------------\u001B[0m",
      "\u001B[0;31mIndexError\u001B[0m                                Traceback (most recent call last)",
      "Cell \u001B[0;32mIn[27], line 2\u001B[0m\n\u001B[1;32m      1\u001B[0m \u001B[38;5;66;03m# Add a point to the voxel grid\u001B[39;00m\n\u001B[0;32m----> 2\u001B[0m \u001B[43mvoxel_grid\u001B[49m\u001B[38;5;241;43m.\u001B[39;49m\u001B[43madd_point_to_voxel_grid\u001B[49m\u001B[43m(\u001B[49m\u001B[43mnp\u001B[49m\u001B[38;5;241;43m.\u001B[39;49m\u001B[43marray\u001B[49m\u001B[43m(\u001B[49m\u001B[43m[\u001B[49m\u001B[38;5;241;43m20\u001B[39;49m\u001B[43m,\u001B[49m\u001B[43m \u001B[49m\u001B[38;5;241;43m-\u001B[39;49m\u001B[38;5;241;43m6\u001B[39;49m\u001B[43m,\u001B[49m\u001B[43m \u001B[49m\u001B[38;5;241;43m0\u001B[39;49m\u001B[43m]\u001B[49m\u001B[43m)\u001B[49m\u001B[43m)\u001B[49m  \u001B[38;5;66;03m# This point is out of bounds of the current voxel grid space. Hence trying to add will result in an error\u001B[39;00m\n",
      "File \u001B[0;32m~/BrainCorp/Sambaran/development/octomap/scripts/regular_voxel_grid.py:66\u001B[0m, in \u001B[0;36mRegularVoxelGrid.add_point_to_voxel_grid\u001B[0;34m(self, point)\u001B[0m\n\u001B[1;32m     60\u001B[0m \u001B[38;5;250m\u001B[39m\u001B[38;5;124;03m\"\"\"\u001B[39;00m\n\u001B[1;32m     61\u001B[0m \u001B[38;5;124;03mAdd a point to the voxel grid\u001B[39;00m\n\u001B[1;32m     62\u001B[0m \u001B[38;5;124;03m:param point:\u001B[39;00m\n\u001B[1;32m     63\u001B[0m \u001B[38;5;124;03m:return:\u001B[39;00m\n\u001B[1;32m     64\u001B[0m \u001B[38;5;124;03m\"\"\"\u001B[39;00m\n\u001B[1;32m     65\u001B[0m voxel_index \u001B[38;5;241m=\u001B[39m np\u001B[38;5;241m.\u001B[39mfloor((point \u001B[38;5;241m-\u001B[39m \u001B[38;5;28mself\u001B[39m\u001B[38;5;241m.\u001B[39mmin_coord) \u001B[38;5;241m/\u001B[39m \u001B[38;5;28mself\u001B[39m\u001B[38;5;241m.\u001B[39mresolution)\u001B[38;5;241m.\u001B[39mastype(\u001B[38;5;28mint\u001B[39m)\n\u001B[0;32m---> 66\u001B[0m \u001B[38;5;28;43mself\u001B[39;49m\u001B[38;5;241;43m.\u001B[39;49m\u001B[43m_regular_voxel_grid\u001B[49m\u001B[43m[\u001B[49m\u001B[43mvoxel_index\u001B[49m\u001B[43m]\u001B[49m \u001B[38;5;241m=\u001B[39m \u001B[38;5;241m1\u001B[39m\n\u001B[1;32m     67\u001B[0m \u001B[38;5;28;01mreturn\u001B[39;00m\n",
      "\u001B[0;31mIndexError\u001B[0m: index 120 is out of bounds for axis 0 with size 80"
     ]
    }
   ],
   "execution_count": 27
  },
  {
   "metadata": {},
   "cell_type": "markdown",
   "source": "### Adding a point to the octomap ",
   "id": "e60c296f048ea32f"
  },
  {
   "metadata": {},
   "cell_type": "markdown",
   "source": "#### Modifying simple_example.cpp to add a point to the octomap that is far away from existing points ",
   "id": "c4493af34830ab65"
  },
  {
   "metadata": {
    "ExecuteTime": {
     "end_time": "2024-06-12T05:20:16.104394Z",
     "start_time": "2024-06-12T05:18:01.753807Z"
    }
   },
   "cell_type": "code",
   "source": [
    "!cp simple_example.cpp OCTOMAP/octomap/src\n",
    "!cd OCTOMAP/build && cmake .. && make\n",
    "!./OCTOMAP/bin/simple_example\n",
    "!octovis octree_from_point_cloud.bt"
   ],
   "id": "55a7130a55548c83",
   "outputs": [
    {
     "name": "stdout",
     "output_type": "stream",
     "text": [
      "\u001B[0mCMake Deprecation Warning at CMakeLists.txt:1 (CMAKE_MINIMUM_REQUIRED):\r\n",
      "  Compatibility with CMake < 3.5 will be removed from a future version of\r\n",
      "  CMake.\r\n",
      "\r\n",
      "  Update the VERSION argument <min> value or use a ...<max> suffix to tell\r\n",
      "  CMake that the project does not need compatibility with older versions.\r\n",
      "\r\n",
      "\u001B[0m\r\n",
      "-- \r\n",
      "\r\n",
      "-- octomap building as Release\r\n",
      "-- \r\n",
      "\r\n",
      "-- Compile octomap using: make\r\n",
      "-- Install octomap using: make install\r\n",
      "--     (be sure to set the correct CMAKE_INSTALL_PREFIX before)\r\n",
      "-- Compile API-documentation using: make docs\r\n",
      "\r\n",
      "-- \r\n",
      "\r\n",
      "-- octovis building as Release\r\n",
      "-- Found octomap version: 1.10.0\r\n",
      "-- Could NOT find OpenGL (missing: OPENGL_opengl_LIBRARY OPENGL_glx_LIBRARY OPENGL_INCLUDE_DIR) \r\n",
      "-- QGLViewer includes found in /home/sambaran.ghosal/BrainCorp/Sambaran/development/octomap/OCTOMAP/octovis/src/extern/QGLViewer\r\n",
      "-- QGLViewer library not found.\r\n",
      "-- Trying to build libQGLViewer from source in /home/sambaran.ghosal/BrainCorp/Sambaran/development/octomap/OCTOMAP/octovis/src/extern/QGLViewer\r\n",
      "-- \t generating Makefile using qmake\r\n",
      "-- \t building library (this may take some time...)\r\n",
      "make: *** No targets specified and no makefile found.  Stop.\r\n",
      "\u001B[33mCMake Warning at octovis/CMakeModules/FindQGLViewer.cmake:111 (MESSAGE):\r\n",
      "  Could not find libQGLViewer.so, failed to build?\r\n",
      "Call Stack (most recent call first):\r\n",
      "  octovis/CMakeLists.txt:80 (FIND_PACKAGE)\r\n",
      "\r\n",
      "\u001B[0m\r\n",
      "\u001B[0m\r\n",
      "\u001B[0m\r\n",
      "\u001B[0mlibQGLViewer could not be found or generated.\u001B[0m\r\n",
      "\u001B[0mUnfortunately, the viewer (octovis) can not be built because some requirements are missing.\u001B[0m\r\n",
      "\u001B[0mThis will not affect the compilation of the stand-alone library and tools (octomap)\u001B[0m\r\n",
      "\u001B[0mSee README.txt or http://octomap.sf.net for further information.\r\n",
      "\u001B[0m\r\n",
      "-- \r\n",
      "\r\n",
      "-- dynamicEDT3D building as Release\r\n",
      "-- Found octomap version: 1.10.0\r\n",
      "-- octomap libraries: /home/sambaran.ghosal/BrainCorp/Sambaran/development/octomap/OCTOMAP/lib/liboctomap.so;/home/sambaran.ghosal/BrainCorp/Sambaran/development/octomap/OCTOMAP/lib/liboctomath.so\r\n",
      "-- \r\n",
      "\r\n",
      "-- Compile dynamicEDT3D using: make\r\n",
      "-- Install dynamicEDT3D using: make install\r\n",
      "--     (be sure to set the correct CMAKE_INSTALL_PREFIX before)\r\n",
      "-- Compile API-documentation using: make docs_dynamicEDT3D\r\n",
      "\r\n",
      "-- Configuring done (0.1s)\r\n",
      "-- Generating done (0.0s)\r\n",
      "-- Build files have been written to: /home/sambaran.ghosal/BrainCorp/Sambaran/development/octomap/OCTOMAP/build\r\n",
      "[  4%] Built target octomath\r\n",
      "[  9%] Built target octomath-static\r\n",
      "[ 21%] Built target octomap\r\n",
      "[ 33%] Built target octomap-static\r\n",
      "[ 35%] Built target graph2tree\r\n",
      "[ 38%] Built target log2graph\r\n",
      "[ 40%] Built target binvox2bt\r\n",
      "[ 42%] Built target bt2vrml\r\n",
      "[ 45%] Built target edit_octree\r\n",
      "[ 47%] Built target convert_octree\r\n",
      "[ 50%] Built target eval_octree_accuracy\r\n",
      "[ 52%] Built target compare_octrees\r\n",
      "[ 53%] \u001B[32mBuilding CXX object octomap/src/CMakeFiles/simple_example.dir/simple_example.cpp.o\u001B[0m\r\n",
      "[ 54%] \u001B[32m\u001B[1mLinking CXX executable /home/sambaran.ghosal/BrainCorp/Sambaran/development/octomap/OCTOMAP/bin/simple_example\u001B[0m\r\n",
      "[ 54%] Built target simple_example\r\n",
      "[ 57%] Built target normals_example\r\n",
      "[ 59%] Built target intersection_example\r\n",
      "[ 61%] Built target octree2pointcloud\r\n",
      "[ 64%] Built target test_raycasting\r\n",
      "[ 66%] Built target test_iterators\r\n",
      "[ 69%] Built target test_io\r\n",
      "[ 71%] Built target test_changedkeys\r\n",
      "[ 73%] Built target test_scans\r\n",
      "[ 76%] Built target test_color_tree\r\n",
      "[ 78%] Built target color_tree_histogram\r\n",
      "[ 80%] Built target test_mapcollection\r\n",
      "[ 83%] Built target test_pruning\r\n",
      "[ 85%] Built target test_bbx\r\n",
      "[ 88%] Built target unit_tests\r\n",
      "[ 90%] Built target dynamicedt3d\r\n",
      "[ 92%] Built target dynamicedt3d-static\r\n",
      "[ 95%] Built target exampleEDT3D\r\n",
      "[ 97%] Built target exampleEDTOctomap\r\n",
      "[100%] Built target exampleEDTOctomapStamped\r\n",
      "resolution: 0.1\r\n",
      "Octree created and saved to octree_from_point_cloud.bt\r\n",
      "Reading binary octree type OcTree\r\n"
     ]
    }
   ],
   "execution_count": 17
  },
  {
   "metadata": {},
   "cell_type": "markdown",
   "source": "### As we can see, the octomap is updated with the new point that is far away from the existing points. This is not possible with a regular voxel grid.",
   "id": "15df5c1bf41b3bd0"
  },
  {
   "metadata": {},
   "cell_type": "markdown",
   "source": "## 3. Adaptive resolution comparison",
   "id": "505bf9a7c4ad9480"
  },
  {
   "metadata": {},
   "cell_type": "markdown",
   "source": "### Octomap has the ability to adaptively change the resolution of the octree based on the points being added. This is not possible with a regular voxel grid.",
   "id": "72ce42b9f847fd7b"
  },
  {
   "metadata": {
    "ExecuteTime": {
     "end_time": "2024-06-12T04:34:07.419365Z",
     "start_time": "2024-06-12T04:34:07.405054Z"
    }
   },
   "cell_type": "code",
   "source": [
    "voxel_grid = RegularVoxelGrid(resolution=0.25, max_coord=5, min_coord=-5)\n",
    "# Generate dense points in a small area (high resolution needed)\n",
    "dense_points = np.random.rand(1000, 3)\n",
    "\n",
    "# Generate sparse points in a larger area (low resolution needed)\n",
    "sparse_points = (np.random.rand(10, 3) * 2) + 2.5\n",
    "\n",
    "# Combine dense and sparse points\n",
    "points = np.vstack((dense_points, sparse_points))\n",
    "voxel_grid.add_point_to_voxel_grid(points)"
   ],
   "id": "a9e89413f3afeeb5",
   "outputs": [],
   "execution_count": 5
  },
  {
   "metadata": {
    "ExecuteTime": {
     "end_time": "2024-06-12T04:34:15.571240Z",
     "start_time": "2024-06-12T04:34:09.767678Z"
    }
   },
   "cell_type": "code",
   "source": "visualize_voxel_grid(voxel_grid.get_voxel_grid_points())",
   "id": "d6b0a2661a815c89",
   "outputs": [],
   "execution_count": 6
  },
  {
   "metadata": {
    "ExecuteTime": {
     "end_time": "2024-06-12T04:34:34.687192Z",
     "start_time": "2024-06-12T04:34:34.655454Z"
    }
   },
   "cell_type": "code",
   "source": "voxel_grid.write_voxel_grid_points_to_txt(filename=\"adaptive_voxel_grid_points.txt\")",
   "id": "d8a88b2572917cbc",
   "outputs": [],
   "execution_count": 8
  },
  {
   "metadata": {
    "ExecuteTime": {
     "end_time": "2024-06-12T04:35:00.379829Z",
     "start_time": "2024-06-12T04:35:00.361468Z"
    }
   },
   "cell_type": "code",
   "source": [
    "voxel_grid.save_voxel_grid_ply()\n",
    "print(f\"Saved voxel map representation space : {voxel_grid.get_saved_voxel_map_disk_size()} MB\")"
   ],
   "id": "e8390891cf23a469",
   "outputs": [
    {
     "name": "stdout",
     "output_type": "stream",
     "text": [
      "Saved voxel map representation space : 0.4395942687988281 MB\n"
     ]
    }
   ],
   "execution_count": 9
  },
  {
   "metadata": {
    "ExecuteTime": {
     "end_time": "2024-06-12T04:46:59.284014Z",
     "start_time": "2024-06-12T04:36:11.282189Z"
    }
   },
   "cell_type": "code",
   "source": [
    "!cd OCTOMAP/build && cmake .. && make\n",
    "!./OCTOMAP/bin/simple_example\n",
    "!octovis octree_from_point_cloud.bt"
   ],
   "id": "3a98a83818597675",
   "outputs": [
    {
     "name": "stdout",
     "output_type": "stream",
     "text": [
      "\u001B[0mCMake Deprecation Warning at CMakeLists.txt:1 (CMAKE_MINIMUM_REQUIRED):\r\n",
      "  Compatibility with CMake < 3.5 will be removed from a future version of\r\n",
      "  CMake.\r\n",
      "\r\n",
      "  Update the VERSION argument <min> value or use a ...<max> suffix to tell\r\n",
      "  CMake that the project does not need compatibility with older versions.\r\n",
      "\r\n",
      "\u001B[0m\r\n",
      "-- \r\n",
      "\r\n",
      "-- octomap building as Release\r\n",
      "-- \r\n",
      "\r\n",
      "-- Compile octomap using: make\r\n",
      "-- Install octomap using: make install\r\n",
      "--     (be sure to set the correct CMAKE_INSTALL_PREFIX before)\r\n",
      "-- Compile API-documentation using: make docs\r\n",
      "\r\n",
      "-- \r\n",
      "\r\n",
      "-- octovis building as Release\r\n",
      "-- Found octomap version: 1.10.0\r\n",
      "-- Could NOT find OpenGL (missing: OPENGL_opengl_LIBRARY OPENGL_glx_LIBRARY OPENGL_INCLUDE_DIR) \r\n",
      "-- QGLViewer includes found in /home/sambaran.ghosal/BrainCorp/Sambaran/development/octomap/OCTOMAP/octovis/src/extern/QGLViewer\r\n",
      "-- QGLViewer library not found.\r\n",
      "-- Trying to build libQGLViewer from source in /home/sambaran.ghosal/BrainCorp/Sambaran/development/octomap/OCTOMAP/octovis/src/extern/QGLViewer\r\n",
      "-- \t generating Makefile using qmake\r\n",
      "-- \t building library (this may take some time...)\r\n",
      "make: *** No targets specified and no makefile found.  Stop.\r\n",
      "\u001B[33mCMake Warning at octovis/CMakeModules/FindQGLViewer.cmake:111 (MESSAGE):\r\n",
      "  Could not find libQGLViewer.so, failed to build?\r\n",
      "Call Stack (most recent call first):\r\n",
      "  octovis/CMakeLists.txt:80 (FIND_PACKAGE)\r\n",
      "\r\n",
      "\u001B[0m\r\n",
      "\u001B[0m\r\n",
      "\u001B[0m\r\n",
      "\u001B[0mlibQGLViewer could not be found or generated.\u001B[0m\r\n",
      "\u001B[0mUnfortunately, the viewer (octovis) can not be built because some requirements are missing.\u001B[0m\r\n",
      "\u001B[0mThis will not affect the compilation of the stand-alone library and tools (octomap)\u001B[0m\r\n",
      "\u001B[0mSee README.txt or http://octomap.sf.net for further information.\r\n",
      "\u001B[0m\r\n",
      "-- \r\n",
      "\r\n",
      "-- dynamicEDT3D building as Release\r\n",
      "-- Found octomap version: 1.10.0\r\n",
      "-- octomap libraries: /home/sambaran.ghosal/BrainCorp/Sambaran/development/octomap/OCTOMAP/lib/liboctomap.so;/home/sambaran.ghosal/BrainCorp/Sambaran/development/octomap/OCTOMAP/lib/liboctomath.so\r\n",
      "-- \r\n",
      "\r\n",
      "-- Compile dynamicEDT3D using: make\r\n",
      "-- Install dynamicEDT3D using: make install\r\n",
      "--     (be sure to set the correct CMAKE_INSTALL_PREFIX before)\r\n",
      "-- Compile API-documentation using: make docs_dynamicEDT3D\r\n",
      "\r\n",
      "-- Configuring done (0.1s)\r\n",
      "-- Generating done (0.0s)\r\n",
      "-- Build files have been written to: /home/sambaran.ghosal/BrainCorp/Sambaran/development/octomap/OCTOMAP/build\r\n",
      "[  4%] Built target octomath\r\n",
      "[  9%] Built target octomath-static\r\n",
      "[ 21%] Built target octomap\r\n",
      "[ 33%] Built target octomap-static\r\n",
      "[ 35%] Built target graph2tree\r\n",
      "[ 38%] Built target log2graph\r\n",
      "[ 40%] Built target binvox2bt\r\n",
      "[ 42%] Built target bt2vrml\r\n",
      "[ 45%] Built target edit_octree\r\n",
      "[ 47%] Built target convert_octree\r\n",
      "[ 50%] Built target eval_octree_accuracy\r\n",
      "[ 52%] Built target compare_octrees\r\n",
      "[ 54%] Built target simple_example\r\n",
      "[ 57%] Built target normals_example\r\n",
      "[ 59%] Built target intersection_example\r\n",
      "[ 61%] Built target octree2pointcloud\r\n",
      "[ 64%] Built target test_raycasting\r\n",
      "[ 66%] Built target test_iterators\r\n",
      "[ 69%] Built target test_io\r\n",
      "[ 71%] Built target test_changedkeys\r\n",
      "[ 73%] Built target test_scans\r\n",
      "[ 76%] Built target test_color_tree\r\n",
      "[ 78%] Built target color_tree_histogram\r\n",
      "[ 80%] Built target test_mapcollection\r\n",
      "[ 83%] Built target test_pruning\r\n",
      "[ 85%] Built target test_bbx\r\n",
      "[ 88%] Built target unit_tests\r\n",
      "[ 90%] Built target dynamicedt3d\r\n",
      "[ 92%] Built target dynamicedt3d-static\r\n",
      "[ 95%] Built target exampleEDT3D\r\n",
      "[ 97%] Built target exampleEDTOctomap\r\n",
      "[100%] Built target exampleEDTOctomapStamped\r\n",
      "resolution: 0.1\r\n",
      "Octree created and saved to octree_from_point_cloud.bt\r\n",
      "Reading binary octree type OcTree\r\n"
     ]
    }
   ],
   "execution_count": 12
  },
  {
   "metadata": {
    "ExecuteTime": {
     "end_time": "2024-06-10T04:47:11.028249Z",
     "start_time": "2024-06-10T04:47:11.023229Z"
    }
   },
   "cell_type": "code",
   "source": "print(f\"Saved octomap space: {os.path.getsize('octree_from_point_cloud.bt') / (1024 * 1024)} MB\")",
   "id": "63c5f34abde513d",
   "outputs": [
    {
     "name": "stdout",
     "output_type": "stream",
     "text": [
      "Saved octomap space: 2.7448387145996094 MB\n"
     ]
    }
   ],
   "execution_count": 17
  },
  {
   "metadata": {},
   "cell_type": "markdown",
   "source": "## Ray Casting",
   "id": "f332124aea6cc5a9"
  },
  {
   "metadata": {},
   "cell_type": "markdown",
   "source": "### Ray casting is a method to mark free spaces along a ray from the sensor origin to the end of the ray. This is useful for collision detection and path planning. Octomap provides a ray casting method to check if a ray is free from obstacles. This is not possible with a regular voxel grid. During octomapping, when we insert ray casting between sensor origin and the detected endpoint from the lidar, we can mark free spaces in the octomap. ",
   "id": "5725fba35fd91245"
  },
  {
   "metadata": {},
   "cell_type": "markdown",
   "source": "### Ray casting can also be used to see if a ray starting from a point, in a direction intersects with some obstacle or not within a max range. This is useful for path planning and collision detection.",
   "id": "6079c40f25f22b1e"
  },
  {
   "metadata": {},
   "cell_type": "markdown",
   "source": "### Modify simple_example.cpp to do ray casting during octomap to insert free cells during adding points from pointcloud. Then in octovis press F to view the free space pop up. ",
   "id": "e671314e27e5a5f"
  },
  {
   "metadata": {
    "ExecuteTime": {
     "end_time": "2024-06-12T05:42:22.718393Z",
     "start_time": "2024-06-12T05:42:11.509979Z"
    }
   },
   "cell_type": "code",
   "source": [
    "!cp simple_example.cpp OCTOMAP/octomap/src\n",
    "!cd OCTOMAP/build && cmake .. && make\n",
    "!./OCTOMAP/bin/simple_example\n",
    "!octovis octree_from_point_cloud.bt"
   ],
   "id": "ef5d822262fca0f1",
   "outputs": [
    {
     "name": "stdout",
     "output_type": "stream",
     "text": [
      "\u001B[0mCMake Deprecation Warning at CMakeLists.txt:1 (CMAKE_MINIMUM_REQUIRED):\r\n",
      "  Compatibility with CMake < 3.5 will be removed from a future version of\r\n",
      "  CMake.\r\n",
      "\r\n",
      "  Update the VERSION argument <min> value or use a ...<max> suffix to tell\r\n",
      "  CMake that the project does not need compatibility with older versions.\r\n",
      "\r\n",
      "\u001B[0m\r\n",
      "-- \r\n",
      "\r\n",
      "-- octomap building as Release\r\n",
      "-- \r\n",
      "\r\n",
      "-- Compile octomap using: make\r\n",
      "-- Install octomap using: make install\r\n",
      "--     (be sure to set the correct CMAKE_INSTALL_PREFIX before)\r\n",
      "-- Compile API-documentation using: make docs\r\n",
      "\r\n",
      "-- \r\n",
      "\r\n",
      "-- octovis building as Release\r\n",
      "-- Found octomap version: 1.10.0\r\n",
      "-- Could NOT find OpenGL (missing: OPENGL_opengl_LIBRARY OPENGL_glx_LIBRARY OPENGL_INCLUDE_DIR) \r\n",
      "-- QGLViewer includes found in /home/sambaran.ghosal/BrainCorp/Sambaran/development/octomap/OCTOMAP/octovis/src/extern/QGLViewer\r\n",
      "-- QGLViewer library not found.\r\n",
      "-- Trying to build libQGLViewer from source in /home/sambaran.ghosal/BrainCorp/Sambaran/development/octomap/OCTOMAP/octovis/src/extern/QGLViewer\r\n",
      "-- \t generating Makefile using qmake\r\n",
      "-- \t building library (this may take some time...)\r\n",
      "make: *** No targets specified and no makefile found.  Stop.\r\n",
      "\u001B[33mCMake Warning at octovis/CMakeModules/FindQGLViewer.cmake:111 (MESSAGE):\r\n",
      "  Could not find libQGLViewer.so, failed to build?\r\n",
      "Call Stack (most recent call first):\r\n",
      "  octovis/CMakeLists.txt:80 (FIND_PACKAGE)\r\n",
      "\r\n",
      "\u001B[0m\r\n",
      "\u001B[0m\r\n",
      "\u001B[0m\r\n",
      "\u001B[0mlibQGLViewer could not be found or generated.\u001B[0m\r\n",
      "\u001B[0mUnfortunately, the viewer (octovis) can not be built because some requirements are missing.\u001B[0m\r\n",
      "\u001B[0mThis will not affect the compilation of the stand-alone library and tools (octomap)\u001B[0m\r\n",
      "\u001B[0mSee README.txt or http://octomap.sf.net for further information.\r\n",
      "\u001B[0m\r\n",
      "-- \r\n",
      "\r\n",
      "-- dynamicEDT3D building as Release\r\n",
      "-- Found octomap version: 1.10.0\r\n",
      "-- octomap libraries: /home/sambaran.ghosal/BrainCorp/Sambaran/development/octomap/OCTOMAP/lib/liboctomap.so;/home/sambaran.ghosal/BrainCorp/Sambaran/development/octomap/OCTOMAP/lib/liboctomath.so\r\n",
      "-- \r\n",
      "\r\n",
      "-- Compile dynamicEDT3D using: make\r\n",
      "-- Install dynamicEDT3D using: make install\r\n",
      "--     (be sure to set the correct CMAKE_INSTALL_PREFIX before)\r\n",
      "-- Compile API-documentation using: make docs_dynamicEDT3D\r\n",
      "\r\n",
      "-- Configuring done (0.1s)\r\n",
      "-- Generating done (0.0s)\r\n",
      "-- Build files have been written to: /home/sambaran.ghosal/BrainCorp/Sambaran/development/octomap/OCTOMAP/build\r\n",
      "[  4%] Built target octomath\r\n",
      "[  9%] Built target octomath-static\r\n",
      "[ 21%] Built target octomap\r\n",
      "[ 33%] Built target octomap-static\r\n",
      "[ 35%] Built target graph2tree\r\n",
      "[ 38%] Built target log2graph\r\n",
      "[ 40%] Built target binvox2bt\r\n",
      "[ 42%] Built target bt2vrml\r\n",
      "[ 45%] Built target edit_octree\r\n",
      "[ 47%] Built target convert_octree\r\n",
      "[ 50%] Built target eval_octree_accuracy\r\n",
      "[ 52%] Built target compare_octrees\r\n",
      "[ 53%] \u001B[32mBuilding CXX object octomap/src/CMakeFiles/simple_example.dir/simple_example.cpp.o\u001B[0m\r\n",
      "[ 54%] \u001B[32m\u001B[1mLinking CXX executable /home/sambaran.ghosal/BrainCorp/Sambaran/development/octomap/OCTOMAP/bin/simple_example\u001B[0m\r\n",
      "[ 54%] Built target simple_example\r\n",
      "[ 57%] Built target normals_example\r\n",
      "[ 59%] Built target intersection_example\r\n",
      "[ 61%] Built target octree2pointcloud\r\n",
      "[ 64%] Built target test_raycasting\r\n",
      "[ 66%] Built target test_iterators\r\n",
      "[ 69%] Built target test_io\r\n",
      "[ 71%] Built target test_changedkeys\r\n",
      "[ 73%] Built target test_scans\r\n",
      "[ 76%] Built target test_color_tree\r\n",
      "[ 78%] Built target color_tree_histogram\r\n",
      "[ 80%] Built target test_mapcollection\r\n",
      "[ 83%] Built target test_pruning\r\n",
      "[ 85%] Built target test_bbx\r\n",
      "[ 88%] Built target unit_tests\r\n",
      "[ 90%] Built target dynamicedt3d\r\n",
      "[ 92%] Built target dynamicedt3d-static\r\n",
      "[ 95%] Built target exampleEDT3D\r\n",
      "[ 97%] Built target exampleEDTOctomap\r\n",
      "[100%] Built target exampleEDTOctomapStamped\r\n",
      "resolution: 0.1\r\n",
      "Octree created and saved to octree_from_point_cloud.bt\r\n",
      "Ray hit the point: (3.25 0.05 0.05)\r\n",
      "Ray did not hit the point: (-100.05 0.05 0.05)\r\n",
      "Ray hit the point: (0.05 3.75 0.05)\r\n",
      "Ray hit the point: (0.05 -3.95 0.05)\r\n",
      "Ray hit the point: (0.05 0.05 3.75)\r\n",
      "Ray hit the point: (0.05 0.05 -3.95)\r\n",
      "Reading binary octree type OcTree\r\n"
     ]
    }
   ],
   "execution_count": 23
  },
  {
   "metadata": {},
   "cell_type": "markdown",
   "source": "### Add code to do ray casting for collision detection along a specific direction",
   "id": "a91b642683e4194a"
  },
  {
   "metadata": {},
   "cell_type": "code",
   "outputs": [],
   "execution_count": null,
   "source": "",
   "id": "63e2f16aa731784d"
  }
 ],
 "metadata": {
  "kernelspec": {
   "display_name": "Python 3 (ipykernel)",
   "language": "python",
   "name": "python3"
  },
  "language_info": {
   "codemirror_mode": {
    "name": "ipython",
    "version": 3
   },
   "file_extension": ".py",
   "mimetype": "text/x-python",
   "name": "python",
   "nbconvert_exporter": "python",
   "pygments_lexer": "ipython3",
   "version": "3.10.12"
  }
 },
 "nbformat": 4,
 "nbformat_minor": 5
}
