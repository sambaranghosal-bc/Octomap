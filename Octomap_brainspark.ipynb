{
 "cells": [
  {
   "cell_type": "markdown",
   "id": "a24f52f9862f0cbe",
   "metadata": {},
   "source": [
    "# Brain Spark : Octomap"
   ]
  },
  {
   "cell_type": "markdown",
   "id": "cd1e3eb98050084b",
   "metadata": {},
   "source": [
    "## 1. Space of map saved on disk comparison"
   ]
  },
  {
   "cell_type": "code",
   "execution_count": 1,
   "id": "5f5abb8a-d65e-4de3-a41b-0e2afc1ed7c9",
   "metadata": {
    "ExecuteTime": {
     "end_time": "2024-06-12T04:20:18.813200Z",
     "start_time": "2024-06-12T04:20:15.864804Z"
    }
   },
   "outputs": [
    {
     "name": "stdout",
     "output_type": "stream",
     "text": [
      "Jupyter environment detected. Enabling Open3D WebVisualizer.\n",
      "[Open3D INFO] WebRTC GUI backend enabled.\n",
      "[Open3D INFO] WebRTCWindowSystem: HTTP handshake server disabled.\n"
     ]
    }
   ],
   "source": [
    "import numpy as np\n",
    "import open3d as o3d\n",
    "import os\n",
    "from scripts.regular_voxel_grid import RegularVoxelGrid, visualize_voxel_grid"
   ]
  },
  {
   "cell_type": "code",
   "execution_count": 2,
   "id": "96c3f980-2dc9-4261-bfab-185fb8cf25ff",
   "metadata": {
    "ExecuteTime": {
     "end_time": "2024-06-09T21:01:21.566535Z",
     "start_time": "2024-06-09T21:01:21.564084Z"
    }
   },
   "outputs": [],
   "source": [
    "voxel_grid = RegularVoxelGrid(resolution=0.25, max_coord=10, min_coord=-10)"
   ]
  },
  {
   "cell_type": "code",
   "execution_count": 3,
   "id": "5b4da8a2-92a5-462e-87b4-dce549ee1748",
   "metadata": {
    "ExecuteTime": {
     "end_time": "2024-06-09T21:01:23.738516Z",
     "start_time": "2024-06-09T21:01:21.567272Z"
    }
   },
   "outputs": [
    {
     "name": "stdout",
     "output_type": "stream",
     "text": [
      "\u001b[1;33m[Open3D WARNING] GLFW Error: X11: Failed to open display :1\u001b[0;m\n",
      "\u001b[1;33m[Open3D WARNING] Failed to initialize GLFW\u001b[0;m\n",
      "\u001b[1;33m[Open3D WARNING] [DrawGeometries] Failed creating OpenGL window.\u001b[0;m\n"
     ]
    },
    {
     "name": "stderr",
     "output_type": "stream",
     "text": [
      "Authorization required, but no authorization protocol specified\n"
     ]
    }
   ],
   "source": [
    "voxel_grid.create_regular_voxel_map()\n",
    "visualize_voxel_grid(voxel_grid.get_voxel_grid_points())"
   ]
  },
  {
   "cell_type": "code",
   "execution_count": 4,
   "id": "51162010-bb99-4e1a-9d89-aa9095aa5d43",
   "metadata": {
    "ExecuteTime": {
     "end_time": "2024-06-09T22:39:11.231920Z",
     "start_time": "2024-06-09T22:39:11.195719Z"
    }
   },
   "outputs": [
    {
     "name": "stdout",
     "output_type": "stream",
     "text": [
      "Saved voxel map representation space : 0.5860786437988281 MB\n"
     ]
    }
   ],
   "source": [
    "voxel_grid.save_voxel_grid_ply()\n",
    "print(f\"Saved voxel map representation space : {voxel_grid.get_saved_voxel_map_disk_size()} MB\")"
   ]
  },
  {
   "cell_type": "code",
   "execution_count": 5,
   "id": "f15b64d1-2b70-4939-8261-a516253a7d88",
   "metadata": {
    "ExecuteTime": {
     "end_time": "2024-06-09T21:01:23.838702Z",
     "start_time": "2024-06-09T21:01:23.786408Z"
    }
   },
   "outputs": [],
   "source": [
    "voxel_grid.write_voxel_grid_points_to_txt()\n"
   ]
  },
  {
   "cell_type": "markdown",
   "id": "ad6b2231-83bb-48e3-9d7b-9fa61fa57b6a",
   "metadata": {},
   "source": [
    "### Creating the octomap in CPP and saving it to disk"
   ]
  },
  {
   "cell_type": "code",
   "execution_count": 6,
   "id": "9a6853c1-6714-4567-91c0-f2aa51736d72",
   "metadata": {
    "ExecuteTime": {
     "end_time": "2024-06-09T22:37:49.674653Z",
     "start_time": "2024-06-09T22:37:46.267567Z"
    },
    "scrolled": true
   },
   "outputs": [
    {
     "name": "stdout",
     "output_type": "stream",
     "text": [
      "\u001b[1;33m[Open3D WARNING] GLFW Error: X11: Failed to open display :1\u001b[0;m\n",
      "\u001b[1;33m[Open3D WARNING] Failed to initialize GLFW\u001b[0;m\n",
      "\u001b[1;33m[Open3D WARNING] [DrawGeometries] Failed creating OpenGL window.\u001b[0;m\n"
     ]
    },
    {
     "name": "stderr",
     "output_type": "stream",
     "text": [
      "Authorization required, but no authorization protocol specified\n"
     ]
    }
   ],
   "source": [
    "# Create an Open3D Octree for visualization first\n",
    "octree = o3d.geometry.Octree(max_depth=8)  # The tree is stopped when the depth level reaches 8\n",
    "pcd = o3d.geometry.PointCloud()\n",
    "pcd.points = o3d.utility.Vector3dVector(voxel_grid.get_voxel_grid_points())\n",
    "octree.convert_from_point_cloud(pcd, size_expand=0.02)\n",
    "\n",
    "# Visualize the Octree\n",
    "o3d.visualization.draw_geometries([octree])"
   ]
  },
  {
   "cell_type": "markdown",
   "id": "81a6cae0-9be4-494b-8b6f-62e6fae32fab",
   "metadata": {},
   "source": [
    "Since open3d does not allow us to save the octree, I am going to use the official Octomap repository to create the same octomap using the above points, and then save it to a usable binary file. And then check the saved file size. "
   ]
  },
  {
   "cell_type": "code",
   "execution_count": 8,
   "id": "bd740c32c1634936",
   "metadata": {
    "ExecuteTime": {
     "end_time": "2024-06-09T22:38:04.092182Z",
     "start_time": "2024-06-09T22:38:01.819077Z"
    }
   },
   "outputs": [
    {
     "name": "stdout",
     "output_type": "stream",
     "text": [
      "-- \n",
      "\n",
      "-- octomap building as Release\n",
      "-- Could NOT find Doxygen (missing: DOXYGEN_EXECUTABLE) \n",
      "-- \n",
      "\n",
      "-- Compile octomap using: make\n",
      "-- Install octomap using: make install\n",
      "--     (be sure to set the correct CMAKE_INSTALL_PREFIX before)\n",
      "-- Compile API-documentation using: make docs\n",
      "\n",
      "-- \n",
      "\n",
      "-- octovis building as Release\n",
      "-- Found octomap version: 1.10.0\n",
      "-- Could NOT find OpenGL (missing: OPENGL_opengl_LIBRARY OPENGL_glx_LIBRARY OPENGL_INCLUDE_DIR) \n",
      "-- QGLViewer includes found in /home/brain-spark/Octomap/octomap/octovis/src/extern/QGLViewer\n",
      "-- QGLViewer library not found.\n",
      "-- Trying to build libQGLViewer from source in /home/brain-spark/Octomap/octomap/octovis/src/extern/QGLViewer\n",
      "-- \t generating Makefile using qmake\n",
      "-- \t building library (this may take some time...)\n",
      "make: *** No targets specified and no makefile found.  Stop.\n",
      "\u001b[33mCMake Warning at octovis/CMakeModules/FindQGLViewer.cmake:111 (MESSAGE):\n",
      "  Could not find libQGLViewer.so, failed to build?\n",
      "Call Stack (most recent call first):\n",
      "  octovis/CMakeLists.txt:80 (FIND_PACKAGE)\n",
      "\n",
      "\u001b[0m\n",
      "\u001b[0m\n",
      "\u001b[0m\n",
      "\u001b[0mlibQGLViewer could not be found or generated.\u001b[0m\n",
      "\u001b[0mUnfortunately, the viewer (octovis) can not be built because some requirements are missing.\u001b[0m\n",
      "\u001b[0mThis will not affect the compilation of the stand-alone library and tools (octomap)\u001b[0m\n",
      "\u001b[0mSee README.txt or http://octomap.sf.net for further information.\n",
      "\u001b[0m\n",
      "-- \n",
      "\n",
      "-- dynamicEDT3D building as Release\n",
      "-- Found octomap version: 1.10.0\n",
      "-- octomap libraries: /home/brain-spark/Octomap/octomap/lib/liboctomap.so;/home/brain-spark/Octomap/octomap/lib/liboctomath.so\n",
      "-- Could NOT find Doxygen (missing: DOXYGEN_EXECUTABLE) \n",
      "-- \n",
      "\n",
      "-- Compile dynamicEDT3D using: make\n",
      "-- Install dynamicEDT3D using: make install\n",
      "--     (be sure to set the correct CMAKE_INSTALL_PREFIX before)\n",
      "-- Compile API-documentation using: make docs_dynamicEDT3D\n",
      "\n",
      "-- Configuring done\n",
      "-- Generating done\n",
      "-- Build files have been written to: /home/brain-spark/Octomap/octomap/build\n",
      "\u001b[35m\u001b[1mConsolidate compiler generated dependencies of target octomath\u001b[0m\n",
      "[  4%] Built target octomath\n",
      "\u001b[35m\u001b[1mConsolidate compiler generated dependencies of target octomath-static\u001b[0m\n",
      "[  9%] Built target octomath-static\n",
      "\u001b[35m\u001b[1mConsolidate compiler generated dependencies of target octomap\u001b[0m\n",
      "[ 21%] Built target octomap\n",
      "\u001b[35m\u001b[1mConsolidate compiler generated dependencies of target octomap-static\u001b[0m\n",
      "[ 33%] Built target octomap-static\n",
      "\u001b[35m\u001b[1mConsolidate compiler generated dependencies of target graph2tree\u001b[0m\n",
      "[ 35%] Built target graph2tree\n",
      "\u001b[35m\u001b[1mConsolidate compiler generated dependencies of target log2graph\u001b[0m\n",
      "[ 38%] Built target log2graph\n",
      "\u001b[35m\u001b[1mConsolidate compiler generated dependencies of target binvox2bt\u001b[0m\n",
      "[ 40%] Built target binvox2bt\n",
      "\u001b[35m\u001b[1mConsolidate compiler generated dependencies of target bt2vrml\u001b[0m\n",
      "[ 42%] Built target bt2vrml\n",
      "\u001b[35m\u001b[1mConsolidate compiler generated dependencies of target edit_octree\u001b[0m\n",
      "[ 45%] Built target edit_octree\n",
      "\u001b[35m\u001b[1mConsolidate compiler generated dependencies of target convert_octree\u001b[0m\n",
      "[ 47%] Built target convert_octree\n",
      "\u001b[35m\u001b[1mConsolidate compiler generated dependencies of target eval_octree_accuracy\u001b[0m\n",
      "[ 50%] Built target eval_octree_accuracy\n",
      "\u001b[35m\u001b[1mConsolidate compiler generated dependencies of target compare_octrees\u001b[0m\n",
      "[ 52%] Built target compare_octrees\n",
      "\u001b[35m\u001b[1mConsolidate compiler generated dependencies of target simple_example\u001b[0m\n",
      "[ 53%] \u001b[32mBuilding CXX object octomap/src/CMakeFiles/simple_example.dir/simple_example.cpp.o\u001b[0m\n",
      "[ 54%] \u001b[32m\u001b[1mLinking CXX executable ../../../bin/simple_example\u001b[0m\n",
      "[ 54%] Built target simple_example\n",
      "\u001b[35m\u001b[1mConsolidate compiler generated dependencies of target normals_example\u001b[0m\n",
      "[ 57%] Built target normals_example\n",
      "\u001b[35m\u001b[1mConsolidate compiler generated dependencies of target intersection_example\u001b[0m\n",
      "[ 59%] Built target intersection_example\n",
      "\u001b[35m\u001b[1mConsolidate compiler generated dependencies of target octree2pointcloud\u001b[0m\n",
      "[ 61%] Built target octree2pointcloud\n",
      "\u001b[35m\u001b[1mConsolidate compiler generated dependencies of target test_raycasting\u001b[0m\n",
      "[ 64%] Built target test_raycasting\n",
      "\u001b[35m\u001b[1mConsolidate compiler generated dependencies of target test_iterators\u001b[0m\n",
      "[ 66%] Built target test_iterators\n",
      "\u001b[35m\u001b[1mConsolidate compiler generated dependencies of target test_io\u001b[0m\n",
      "[ 69%] Built target test_io\n",
      "\u001b[35m\u001b[1mConsolidate compiler generated dependencies of target test_changedkeys\u001b[0m\n",
      "[ 71%] Built target test_changedkeys\n",
      "\u001b[35m\u001b[1mConsolidate compiler generated dependencies of target test_scans\u001b[0m\n",
      "[ 73%] Built target test_scans\n",
      "\u001b[35m\u001b[1mConsolidate compiler generated dependencies of target test_color_tree\u001b[0m\n",
      "[ 76%] Built target test_color_tree\n",
      "\u001b[35m\u001b[1mConsolidate compiler generated dependencies of target color_tree_histogram\u001b[0m\n",
      "[ 78%] Built target color_tree_histogram\n",
      "\u001b[35m\u001b[1mConsolidate compiler generated dependencies of target test_mapcollection\u001b[0m\n",
      "[ 80%] Built target test_mapcollection\n",
      "\u001b[35m\u001b[1mConsolidate compiler generated dependencies of target test_pruning\u001b[0m\n",
      "[ 83%] Built target test_pruning\n",
      "\u001b[35m\u001b[1mConsolidate compiler generated dependencies of target test_bbx\u001b[0m\n",
      "[ 85%] Built target test_bbx\n",
      "\u001b[35m\u001b[1mConsolidate compiler generated dependencies of target unit_tests\u001b[0m\n",
      "[ 88%] Built target unit_tests\n",
      "\u001b[35m\u001b[1mConsolidate compiler generated dependencies of target dynamicedt3d\u001b[0m\n",
      "[ 89%] \u001b[32m\u001b[1mLinking CXX shared library ../../../lib/libdynamicedt3d.so\u001b[0m\n",
      "[ 90%] Built target dynamicedt3d\n",
      "\u001b[35m\u001b[1mConsolidate compiler generated dependencies of target dynamicedt3d-static\u001b[0m\n",
      "[ 92%] Built target dynamicedt3d-static\n",
      "\u001b[35m\u001b[1mConsolidate compiler generated dependencies of target exampleEDT3D\u001b[0m\n",
      "[ 94%] \u001b[32m\u001b[1mLinking CXX executable ../../../../bin/exampleEDT3D\u001b[0m\n",
      "[ 95%] Built target exampleEDT3D\n",
      "\u001b[35m\u001b[1mConsolidate compiler generated dependencies of target exampleEDTOctomap\u001b[0m\n",
      "[ 96%] \u001b[32m\u001b[1mLinking CXX executable ../../../../bin/exampleEDTOctomap\u001b[0m\n",
      "[ 97%] Built target exampleEDTOctomap\n",
      "\u001b[35m\u001b[1mConsolidate compiler generated dependencies of target exampleEDTOctomapStamped\u001b[0m\n",
      "[ 98%] \u001b[32m\u001b[1mLinking CXX executable ../../../../bin/exampleEDTOctomapStamped\u001b[0m\n",
      "[100%] Built target exampleEDTOctomapStamped\n",
      "resolution: 0.1\n",
      "Octree created and saved to octree_from_point_cloud.bt\n",
      "Ray from (0 0 0) at direction (1 0 0) hit the point: (3.25 0.05 0.05)\n",
      "Ray from (0 0 0) at direction (-1 0 0)  did not hit any obstacle\n",
      "Ray from (0 0 0) at direction (0 1 0) hit the point: (0.05 3.75 0.05)\n",
      "Ray from (0 0 0) at direction (0 -1 0) hit the point: (0.05 -3.95 0.05)\n",
      "Ray from (0 0 0) at direction (0 0 1) hit the point: (0.05 0.05 3.75)\n",
      "Ray from (0 0 0) at direction (0 0 -1) hit the point: (0.05 0.05 -3.95)\n"
     ]
    }
   ],
   "source": [
    "!cp simple_example.cpp octomap/octomap/src\n",
    "if not os.path.exists('octomap/build'):\n",
    "    os.makedirs('octomap/build', exist_ok=True)\n",
    "!cd octomap/build && cmake .. && make\n",
    "!./octomap/bin/simple_example  # will create the octomap corresponding to above voxel grid points and save it to a binary file"
   ]
  },
  {
   "cell_type": "code",
   "execution_count": 10,
   "id": "7dad4e53-4c62-4f64-9026-ffc8448c8438",
   "metadata": {
    "ExecuteTime": {
     "end_time": "2024-06-09T22:39:32.213008Z",
     "start_time": "2024-06-09T22:39:32.207856Z"
    }
   },
   "outputs": [
    {
     "name": "stdout",
     "output_type": "stream",
     "text": [
      "Saved octomap space: 0.06645870208740234 MB\n"
     ]
    }
   ],
   "source": [
    "print(f\"Saved octomap space: {os.path.getsize('octree_from_point_cloud.bt') / (1024 * 1024)} MB\")"
   ]
  },
  {
   "cell_type": "code",
   "execution_count": 11,
   "id": "1eb3660e1248444d",
   "metadata": {
    "ExecuteTime": {
     "end_time": "2024-06-09T22:38:18.624808Z",
     "start_time": "2024-06-09T22:38:11.826856Z"
    }
   },
   "outputs": [
    {
     "name": "stdout",
     "output_type": "stream",
     "text": [
      "Authorization required, but no authorization protocol specified\n",
      "qt.qpa.xcb: could not connect to display :1\n",
      "qt.qpa.plugin: Could not load the Qt platform plugin \"xcb\" in \"\" even though it was found.\n",
      "This application failed to start because no Qt platform plugin could be initialized. Reinstalling the application may fix this problem.\n",
      "\n",
      "Available platform plugins are: eglfs, linuxfb, minimal, minimalegl, offscreen, vnc, xcb.\n",
      "\n",
      "Aborted (core dumped)\n"
     ]
    }
   ],
   "source": [
    "# Visualize the octomap\n",
    "!octovis octree_from_point_cloud.bt"
   ]
  },
  {
   "cell_type": "markdown",
   "id": "e8197866c2532d6b",
   "metadata": {},
   "source": [
    "## 2. Dynamically adding points comparison"
   ]
  },
  {
   "cell_type": "code",
   "execution_count": 12,
   "id": "9d1b41bcd903a54f",
   "metadata": {
    "ExecuteTime": {
     "end_time": "2024-06-09T22:41:51.401196Z",
     "start_time": "2024-06-09T22:41:51.398575Z"
    }
   },
   "outputs": [],
   "source": [
    "### Another advantage of using octomap is that we can dynamically add points to the octomap and update it, no matter if the current point being added is very far from the existing points. In a regular voxel grid, if we want to add a point that is out of bounds from the initialized voxel grid space, we need to reinitialize the voxel grid with a larger space. This would require us to reinitialize the voxel grid and save it to disk again."
   ]
  },
  {
   "cell_type": "code",
   "execution_count": 13,
   "id": "1ac61336d0691feb",
   "metadata": {
    "ExecuteTime": {
     "end_time": "2024-06-09T22:42:42.009055Z",
     "start_time": "2024-06-09T22:42:41.986697Z"
    }
   },
   "outputs": [
    {
     "ename": "IndexError",
     "evalue": "index 120 is out of bounds for axis 0 with size 80",
     "output_type": "error",
     "traceback": [
      "\u001b[0;31m---------------------------------------------------------------------------\u001b[0m",
      "\u001b[0;31mIndexError\u001b[0m                                Traceback (most recent call last)",
      "Cell \u001b[0;32mIn[13], line 2\u001b[0m\n\u001b[1;32m      1\u001b[0m \u001b[38;5;66;03m# Add a point to the voxel grid\u001b[39;00m\n\u001b[0;32m----> 2\u001b[0m \u001b[43mvoxel_grid\u001b[49m\u001b[38;5;241;43m.\u001b[39;49m\u001b[43madd_point_to_voxel_grid\u001b[49m\u001b[43m(\u001b[49m\u001b[43mnp\u001b[49m\u001b[38;5;241;43m.\u001b[39;49m\u001b[43marray\u001b[49m\u001b[43m(\u001b[49m\u001b[43m[\u001b[49m\u001b[38;5;241;43m20\u001b[39;49m\u001b[43m,\u001b[49m\u001b[43m \u001b[49m\u001b[38;5;241;43m-\u001b[39;49m\u001b[38;5;241;43m6\u001b[39;49m\u001b[43m,\u001b[49m\u001b[43m \u001b[49m\u001b[38;5;241;43m0\u001b[39;49m\u001b[43m]\u001b[49m\u001b[43m)\u001b[49m\u001b[43m)\u001b[49m  \u001b[38;5;66;03m# This point is out of bounds of the current voxel grid space. Hence trying to add will result in an error\u001b[39;00m\n",
      "File \u001b[0;32m/home/brain-spark/Octomap/scripts/regular_voxel_grid.py:63\u001b[0m, in \u001b[0;36mRegularVoxelGrid.add_point_to_voxel_grid\u001b[0;34m(self, point)\u001b[0m\n\u001b[1;32m     58\u001b[0m \u001b[38;5;250m\u001b[39m\u001b[38;5;124;03m\"\"\"\u001b[39;00m\n\u001b[1;32m     59\u001b[0m \u001b[38;5;124;03mAdd a point to the voxel grid\u001b[39;00m\n\u001b[1;32m     60\u001b[0m \u001b[38;5;124;03m:param point:\u001b[39;00m\n\u001b[1;32m     61\u001b[0m \u001b[38;5;124;03m\"\"\"\u001b[39;00m\n\u001b[1;32m     62\u001b[0m voxel_index \u001b[38;5;241m=\u001b[39m np\u001b[38;5;241m.\u001b[39mfloor((point \u001b[38;5;241m-\u001b[39m \u001b[38;5;28mself\u001b[39m\u001b[38;5;241m.\u001b[39mmin_coord) \u001b[38;5;241m/\u001b[39m \u001b[38;5;28mself\u001b[39m\u001b[38;5;241m.\u001b[39mresolution)\u001b[38;5;241m.\u001b[39mastype(\u001b[38;5;28mint\u001b[39m)\n\u001b[0;32m---> 63\u001b[0m \u001b[38;5;28;43mself\u001b[39;49m\u001b[38;5;241;43m.\u001b[39;49m\u001b[43m_regular_voxel_grid\u001b[49m\u001b[43m[\u001b[49m\u001b[43mvoxel_index\u001b[49m\u001b[43m]\u001b[49m \u001b[38;5;241m=\u001b[39m \u001b[38;5;241m1\u001b[39m\n",
      "\u001b[0;31mIndexError\u001b[0m: index 120 is out of bounds for axis 0 with size 80"
     ]
    }
   ],
   "source": [
    "# Add a point to the voxel grid\n",
    "voxel_grid.add_point_to_voxel_grid(np.array([20, -6, 0]))  # This point is out of bounds of the current voxel grid space. Hence trying to add will result in an error"
   ]
  },
  {
   "cell_type": "markdown",
   "id": "e60c296f048ea32f",
   "metadata": {},
   "source": [
    "### Adding a point to the octomap "
   ]
  },
  {
   "cell_type": "markdown",
   "id": "c4493af34830ab65",
   "metadata": {},
   "source": [
    "#### Modifying simple_example.cpp to add a point to the octomap that is far away from existing points "
   ]
  },
  {
   "cell_type": "code",
   "execution_count": 15,
   "id": "55a7130a55548c83",
   "metadata": {
    "ExecuteTime": {
     "end_time": "2024-06-12T05:20:16.104394Z",
     "start_time": "2024-06-12T05:18:01.753807Z"
    },
    "scrolled": true
   },
   "outputs": [
    {
     "name": "stdout",
     "output_type": "stream",
     "text": [
      "-- \n",
      "\n",
      "-- octomap building as Release\n",
      "-- Could NOT find Doxygen (missing: DOXYGEN_EXECUTABLE) \n",
      "-- \n",
      "\n",
      "-- Compile octomap using: make\n",
      "-- Install octomap using: make install\n",
      "--     (be sure to set the correct CMAKE_INSTALL_PREFIX before)\n",
      "-- Compile API-documentation using: make docs\n",
      "\n",
      "-- \n",
      "\n",
      "-- octovis building as Release\n",
      "-- Found octomap version: 1.10.0\n",
      "-- Could NOT find OpenGL (missing: OPENGL_opengl_LIBRARY OPENGL_glx_LIBRARY OPENGL_INCLUDE_DIR) \n",
      "-- QGLViewer includes found in /home/brain-spark/Octomap/octomap/octovis/src/extern/QGLViewer\n",
      "-- QGLViewer library not found.\n",
      "-- Trying to build libQGLViewer from source in /home/brain-spark/Octomap/octomap/octovis/src/extern/QGLViewer\n",
      "-- \t generating Makefile using qmake\n",
      "-- \t building library (this may take some time...)\n",
      "make: *** No targets specified and no makefile found.  Stop.\n",
      "\u001b[33mCMake Warning at octovis/CMakeModules/FindQGLViewer.cmake:111 (MESSAGE):\n",
      "  Could not find libQGLViewer.so, failed to build?\n",
      "Call Stack (most recent call first):\n",
      "  octovis/CMakeLists.txt:80 (FIND_PACKAGE)\n",
      "\n",
      "\u001b[0m\n",
      "\u001b[0m\n",
      "\u001b[0m\n",
      "\u001b[0mlibQGLViewer could not be found or generated.\u001b[0m\n",
      "\u001b[0mUnfortunately, the viewer (octovis) can not be built because some requirements are missing.\u001b[0m\n",
      "\u001b[0mThis will not affect the compilation of the stand-alone library and tools (octomap)\u001b[0m\n",
      "\u001b[0mSee README.txt or http://octomap.sf.net for further information.\n",
      "\u001b[0m\n",
      "-- \n",
      "\n",
      "-- dynamicEDT3D building as Release\n",
      "-- Found octomap version: 1.10.0\n",
      "-- octomap libraries: /home/brain-spark/Octomap/octomap/lib/liboctomap.so;/home/brain-spark/Octomap/octomap/lib/liboctomath.so\n",
      "-- Could NOT find Doxygen (missing: DOXYGEN_EXECUTABLE) \n",
      "-- \n",
      "\n",
      "-- Compile dynamicEDT3D using: make\n",
      "-- Install dynamicEDT3D using: make install\n",
      "--     (be sure to set the correct CMAKE_INSTALL_PREFIX before)\n",
      "-- Compile API-documentation using: make docs_dynamicEDT3D\n",
      "\n",
      "-- Configuring done\n",
      "-- Generating done\n",
      "-- Build files have been written to: /home/brain-spark/Octomap/octomap/build\n",
      "\u001b[35m\u001b[1mConsolidate compiler generated dependencies of target octomath\u001b[0m\n",
      "[  4%] Built target octomath\n",
      "\u001b[35m\u001b[1mConsolidate compiler generated dependencies of target octomath-static\u001b[0m\n",
      "[  9%] Built target octomath-static\n",
      "\u001b[35m\u001b[1mConsolidate compiler generated dependencies of target octomap\u001b[0m\n",
      "[ 21%] Built target octomap\n",
      "\u001b[35m\u001b[1mConsolidate compiler generated dependencies of target octomap-static\u001b[0m\n",
      "[ 33%] Built target octomap-static\n",
      "\u001b[35m\u001b[1mConsolidate compiler generated dependencies of target graph2tree\u001b[0m\n",
      "[ 35%] Built target graph2tree\n",
      "\u001b[35m\u001b[1mConsolidate compiler generated dependencies of target log2graph\u001b[0m\n",
      "[ 38%] Built target log2graph\n",
      "\u001b[35m\u001b[1mConsolidate compiler generated dependencies of target binvox2bt\u001b[0m\n",
      "[ 40%] Built target binvox2bt\n",
      "\u001b[35m\u001b[1mConsolidate compiler generated dependencies of target bt2vrml\u001b[0m\n",
      "[ 42%] Built target bt2vrml\n",
      "\u001b[35m\u001b[1mConsolidate compiler generated dependencies of target edit_octree\u001b[0m\n",
      "[ 45%] Built target edit_octree\n",
      "\u001b[35m\u001b[1mConsolidate compiler generated dependencies of target convert_octree\u001b[0m\n",
      "[ 47%] Built target convert_octree\n",
      "\u001b[35m\u001b[1mConsolidate compiler generated dependencies of target eval_octree_accuracy\u001b[0m\n",
      "[ 50%] Built target eval_octree_accuracy\n",
      "\u001b[35m\u001b[1mConsolidate compiler generated dependencies of target compare_octrees\u001b[0m\n",
      "[ 52%] Built target compare_octrees\n",
      "\u001b[35m\u001b[1mConsolidate compiler generated dependencies of target simple_example\u001b[0m\n",
      "[ 53%] \u001b[32mBuilding CXX object octomap/src/CMakeFiles/simple_example.dir/simple_example.cpp.o\u001b[0m\n",
      "[ 54%] \u001b[32m\u001b[1mLinking CXX executable ../../../bin/simple_example\u001b[0m\n",
      "[ 54%] Built target simple_example\n",
      "\u001b[35m\u001b[1mConsolidate compiler generated dependencies of target normals_example\u001b[0m\n",
      "[ 57%] Built target normals_example\n",
      "\u001b[35m\u001b[1mConsolidate compiler generated dependencies of target intersection_example\u001b[0m\n",
      "[ 59%] Built target intersection_example\n",
      "\u001b[35m\u001b[1mConsolidate compiler generated dependencies of target octree2pointcloud\u001b[0m\n",
      "[ 61%] Built target octree2pointcloud\n",
      "\u001b[35m\u001b[1mConsolidate compiler generated dependencies of target test_raycasting\u001b[0m\n",
      "[ 64%] Built target test_raycasting\n",
      "\u001b[35m\u001b[1mConsolidate compiler generated dependencies of target test_iterators\u001b[0m\n",
      "[ 66%] Built target test_iterators\n",
      "\u001b[35m\u001b[1mConsolidate compiler generated dependencies of target test_io\u001b[0m\n",
      "[ 69%] Built target test_io\n",
      "\u001b[35m\u001b[1mConsolidate compiler generated dependencies of target test_changedkeys\u001b[0m\n",
      "[ 71%] Built target test_changedkeys\n",
      "\u001b[35m\u001b[1mConsolidate compiler generated dependencies of target test_scans\u001b[0m\n",
      "[ 73%] Built target test_scans\n",
      "\u001b[35m\u001b[1mConsolidate compiler generated dependencies of target test_color_tree\u001b[0m\n",
      "[ 76%] Built target test_color_tree\n",
      "\u001b[35m\u001b[1mConsolidate compiler generated dependencies of target color_tree_histogram\u001b[0m\n",
      "[ 78%] Built target color_tree_histogram\n",
      "\u001b[35m\u001b[1mConsolidate compiler generated dependencies of target test_mapcollection\u001b[0m\n",
      "[ 80%] Built target test_mapcollection\n",
      "\u001b[35m\u001b[1mConsolidate compiler generated dependencies of target test_pruning\u001b[0m\n",
      "[ 83%] Built target test_pruning\n",
      "\u001b[35m\u001b[1mConsolidate compiler generated dependencies of target test_bbx\u001b[0m\n",
      "[ 85%] Built target test_bbx\n",
      "\u001b[35m\u001b[1mConsolidate compiler generated dependencies of target unit_tests\u001b[0m\n",
      "[ 88%] Built target unit_tests\n",
      "\u001b[35m\u001b[1mConsolidate compiler generated dependencies of target dynamicedt3d\u001b[0m\n",
      "[ 90%] Built target dynamicedt3d\n",
      "\u001b[35m\u001b[1mConsolidate compiler generated dependencies of target dynamicedt3d-static\u001b[0m\n",
      "[ 92%] Built target dynamicedt3d-static\n",
      "\u001b[35m\u001b[1mConsolidate compiler generated dependencies of target exampleEDT3D\u001b[0m\n",
      "[ 95%] Built target exampleEDT3D\n",
      "\u001b[35m\u001b[1mConsolidate compiler generated dependencies of target exampleEDTOctomap\u001b[0m\n",
      "[ 97%] Built target exampleEDTOctomap\n",
      "\u001b[35m\u001b[1mConsolidate compiler generated dependencies of target exampleEDTOctomapStamped\u001b[0m\n",
      "[100%] Built target exampleEDTOctomapStamped\n",
      "resolution: 0.1\n",
      "Octree created and saved to octree_from_point_cloud.bt\n",
      "Ray from (0 0 0) at direction (1 0 0) hit the point: (3.25 0.05 0.05)\n",
      "Ray from (0 0 0) at direction (-1 0 0)  did not hit any obstacle\n",
      "Ray from (0 0 0) at direction (0 1 0) hit the point: (0.05 3.75 0.05)\n",
      "Ray from (0 0 0) at direction (0 -1 0) hit the point: (0.05 -3.95 0.05)\n",
      "Ray from (0 0 0) at direction (0 0 1) hit the point: (0.05 0.05 3.75)\n",
      "Ray from (0 0 0) at direction (0 0 -1) hit the point: (0.05 0.05 -3.95)\n",
      "Authorization required, but no authorization protocol specified\n",
      "qt.qpa.xcb: could not connect to display :1\n",
      "qt.qpa.plugin: Could not load the Qt platform plugin \"xcb\" in \"\" even though it was found.\n",
      "This application failed to start because no Qt platform plugin could be initialized. Reinstalling the application may fix this problem.\n",
      "\n",
      "Available platform plugins are: eglfs, linuxfb, minimal, minimalegl, offscreen, vnc, xcb.\n",
      "\n",
      "Aborted (core dumped)\n"
     ]
    }
   ],
   "source": [
    "!cp simple_example.cpp octomap/octomap/src\n",
    "!cd octomap/build && cmake .. && make\n",
    "!./octomap/bin/simple_example\n",
    "!octovis octree_from_point_cloud.bt"
   ]
  },
  {
   "cell_type": "markdown",
   "id": "15df5c1bf41b3bd0",
   "metadata": {},
   "source": [
    "### As we can see, the octomap is updated with the new point that is far away from the existing points. This is not possible with a regular voxel grid."
   ]
  },
  {
   "cell_type": "markdown",
   "id": "505bf9a7c4ad9480",
   "metadata": {},
   "source": [
    "## 3. Adaptive resolution comparison"
   ]
  },
  {
   "cell_type": "markdown",
   "id": "72ce42b9f847fd7b",
   "metadata": {},
   "source": [
    "### Octomap has the ability to adaptively change the resolution of the octree based on the points being added. This is not possible with a regular voxel grid."
   ]
  },
  {
   "cell_type": "code",
   "execution_count": 16,
   "id": "a9e89413f3afeeb5",
   "metadata": {
    "ExecuteTime": {
     "end_time": "2024-06-12T04:34:07.419365Z",
     "start_time": "2024-06-12T04:34:07.405054Z"
    }
   },
   "outputs": [],
   "source": [
    "voxel_grid = RegularVoxelGrid(resolution=0.25, max_coord=5, min_coord=-5)\n",
    "# Generate dense points in a small area (high resolution needed)\n",
    "dense_points = np.random.rand(1000, 3)\n",
    "\n",
    "# Generate sparse points in a larger area (low resolution needed)\n",
    "sparse_points = (np.random.rand(10, 3) * 2) + 2.5\n",
    "\n",
    "# Combine dense and sparse points\n",
    "points = np.vstack((dense_points, sparse_points))\n",
    "voxel_grid.add_point_to_voxel_grid(points)"
   ]
  },
  {
   "cell_type": "code",
   "execution_count": 17,
   "id": "d6b0a2661a815c89",
   "metadata": {
    "ExecuteTime": {
     "end_time": "2024-06-12T04:34:15.571240Z",
     "start_time": "2024-06-12T04:34:09.767678Z"
    }
   },
   "outputs": [
    {
     "name": "stdout",
     "output_type": "stream",
     "text": [
      "\u001b[1;33m[Open3D WARNING] GLFW Error: X11: Failed to open display :1\u001b[0;m\n",
      "\u001b[1;33m[Open3D WARNING] Failed to initialize GLFW\u001b[0;m\n",
      "\u001b[1;33m[Open3D WARNING] [DrawGeometries] Failed creating OpenGL window.\u001b[0;m\n"
     ]
    },
    {
     "name": "stderr",
     "output_type": "stream",
     "text": [
      "Authorization required, but no authorization protocol specified\n"
     ]
    }
   ],
   "source": [
    "visualize_voxel_grid(voxel_grid.get_voxel_grid_points())"
   ]
  },
  {
   "cell_type": "code",
   "execution_count": 18,
   "id": "d8a88b2572917cbc",
   "metadata": {
    "ExecuteTime": {
     "end_time": "2024-06-12T04:34:34.687192Z",
     "start_time": "2024-06-12T04:34:34.655454Z"
    }
   },
   "outputs": [],
   "source": [
    "voxel_grid.write_voxel_grid_points_to_txt(filename=\"adaptive_voxel_grid_points.txt\")"
   ]
  },
  {
   "cell_type": "code",
   "execution_count": 19,
   "id": "e8390891cf23a469",
   "metadata": {
    "ExecuteTime": {
     "end_time": "2024-06-12T04:35:00.379829Z",
     "start_time": "2024-06-12T04:35:00.361468Z"
    }
   },
   "outputs": [
    {
     "name": "stdout",
     "output_type": "stream",
     "text": [
      "Saved voxel map representation space : 0.4395942687988281 MB\n"
     ]
    }
   ],
   "source": [
    "voxel_grid.save_voxel_grid_ply()\n",
    "print(f\"Saved voxel map representation space : {voxel_grid.get_saved_voxel_map_disk_size()} MB\")"
   ]
  },
  {
   "cell_type": "code",
   "execution_count": 20,
   "id": "3a98a83818597675",
   "metadata": {
    "ExecuteTime": {
     "end_time": "2024-06-12T04:46:59.284014Z",
     "start_time": "2024-06-12T04:36:11.282189Z"
    }
   },
   "outputs": [
    {
     "name": "stdout",
     "output_type": "stream",
     "text": [
      "-- \n",
      "\n",
      "-- octomap building as Release\n",
      "-- Could NOT find Doxygen (missing: DOXYGEN_EXECUTABLE) \n",
      "-- \n",
      "\n",
      "-- Compile octomap using: make\n",
      "-- Install octomap using: make install\n",
      "--     (be sure to set the correct CMAKE_INSTALL_PREFIX before)\n",
      "-- Compile API-documentation using: make docs\n",
      "\n",
      "-- \n",
      "\n",
      "-- octovis building as Release\n",
      "-- Found octomap version: 1.10.0\n",
      "-- Could NOT find OpenGL (missing: OPENGL_opengl_LIBRARY OPENGL_glx_LIBRARY OPENGL_INCLUDE_DIR) \n",
      "-- QGLViewer includes found in /home/brain-spark/Octomap/octomap/octovis/src/extern/QGLViewer\n",
      "-- QGLViewer library not found.\n",
      "-- Trying to build libQGLViewer from source in /home/brain-spark/Octomap/octomap/octovis/src/extern/QGLViewer\n",
      "-- \t generating Makefile using qmake\n",
      "-- \t building library (this may take some time...)\n",
      "make: *** No targets specified and no makefile found.  Stop.\n",
      "\u001b[33mCMake Warning at octovis/CMakeModules/FindQGLViewer.cmake:111 (MESSAGE):\n",
      "  Could not find libQGLViewer.so, failed to build?\n",
      "Call Stack (most recent call first):\n",
      "  octovis/CMakeLists.txt:80 (FIND_PACKAGE)\n",
      "\n",
      "\u001b[0m\n",
      "\u001b[0m\n",
      "\u001b[0m\n",
      "\u001b[0mlibQGLViewer could not be found or generated.\u001b[0m\n",
      "\u001b[0mUnfortunately, the viewer (octovis) can not be built because some requirements are missing.\u001b[0m\n",
      "\u001b[0mThis will not affect the compilation of the stand-alone library and tools (octomap)\u001b[0m\n",
      "\u001b[0mSee README.txt or http://octomap.sf.net for further information.\n",
      "\u001b[0m\n",
      "-- \n",
      "\n",
      "-- dynamicEDT3D building as Release\n",
      "-- Found octomap version: 1.10.0\n",
      "-- octomap libraries: /home/brain-spark/Octomap/octomap/lib/liboctomap.so;/home/brain-spark/Octomap/octomap/lib/liboctomath.so\n",
      "-- Could NOT find Doxygen (missing: DOXYGEN_EXECUTABLE) \n",
      "-- \n",
      "\n",
      "-- Compile dynamicEDT3D using: make\n",
      "-- Install dynamicEDT3D using: make install\n",
      "--     (be sure to set the correct CMAKE_INSTALL_PREFIX before)\n",
      "-- Compile API-documentation using: make docs_dynamicEDT3D\n",
      "\n",
      "-- Configuring done\n",
      "-- Generating done\n",
      "-- Build files have been written to: /home/brain-spark/Octomap/octomap/build\n",
      "\u001b[35m\u001b[1mConsolidate compiler generated dependencies of target octomath\u001b[0m\n",
      "[  4%] Built target octomath\n",
      "\u001b[35m\u001b[1mConsolidate compiler generated dependencies of target octomath-static\u001b[0m\n",
      "[  9%] Built target octomath-static\n",
      "\u001b[35m\u001b[1mConsolidate compiler generated dependencies of target octomap\u001b[0m\n",
      "[ 21%] Built target octomap\n",
      "\u001b[35m\u001b[1mConsolidate compiler generated dependencies of target octomap-static\u001b[0m\n",
      "[ 33%] Built target octomap-static\n",
      "\u001b[35m\u001b[1mConsolidate compiler generated dependencies of target graph2tree\u001b[0m\n",
      "[ 35%] Built target graph2tree\n",
      "\u001b[35m\u001b[1mConsolidate compiler generated dependencies of target log2graph\u001b[0m\n",
      "[ 38%] Built target log2graph\n",
      "\u001b[35m\u001b[1mConsolidate compiler generated dependencies of target binvox2bt\u001b[0m\n",
      "[ 40%] Built target binvox2bt\n",
      "\u001b[35m\u001b[1mConsolidate compiler generated dependencies of target bt2vrml\u001b[0m\n",
      "[ 42%] Built target bt2vrml\n",
      "\u001b[35m\u001b[1mConsolidate compiler generated dependencies of target edit_octree\u001b[0m\n",
      "[ 45%] Built target edit_octree\n",
      "\u001b[35m\u001b[1mConsolidate compiler generated dependencies of target convert_octree\u001b[0m\n",
      "[ 47%] Built target convert_octree\n",
      "\u001b[35m\u001b[1mConsolidate compiler generated dependencies of target eval_octree_accuracy\u001b[0m\n",
      "[ 50%] Built target eval_octree_accuracy\n",
      "\u001b[35m\u001b[1mConsolidate compiler generated dependencies of target compare_octrees\u001b[0m\n",
      "[ 52%] Built target compare_octrees\n",
      "\u001b[35m\u001b[1mConsolidate compiler generated dependencies of target simple_example\u001b[0m\n",
      "[ 54%] Built target simple_example\n",
      "\u001b[35m\u001b[1mConsolidate compiler generated dependencies of target normals_example\u001b[0m\n",
      "[ 57%] Built target normals_example\n",
      "\u001b[35m\u001b[1mConsolidate compiler generated dependencies of target intersection_example\u001b[0m\n",
      "[ 59%] Built target intersection_example\n",
      "\u001b[35m\u001b[1mConsolidate compiler generated dependencies of target octree2pointcloud\u001b[0m\n",
      "[ 61%] Built target octree2pointcloud\n",
      "\u001b[35m\u001b[1mConsolidate compiler generated dependencies of target test_raycasting\u001b[0m\n",
      "[ 64%] Built target test_raycasting\n",
      "\u001b[35m\u001b[1mConsolidate compiler generated dependencies of target test_iterators\u001b[0m\n",
      "[ 66%] Built target test_iterators\n",
      "\u001b[35m\u001b[1mConsolidate compiler generated dependencies of target test_io\u001b[0m\n",
      "[ 69%] Built target test_io\n",
      "\u001b[35m\u001b[1mConsolidate compiler generated dependencies of target test_changedkeys\u001b[0m\n",
      "[ 71%] Built target test_changedkeys\n",
      "\u001b[35m\u001b[1mConsolidate compiler generated dependencies of target test_scans\u001b[0m\n",
      "[ 73%] Built target test_scans\n",
      "\u001b[35m\u001b[1mConsolidate compiler generated dependencies of target test_color_tree\u001b[0m\n",
      "[ 76%] Built target test_color_tree\n",
      "\u001b[35m\u001b[1mConsolidate compiler generated dependencies of target color_tree_histogram\u001b[0m\n",
      "[ 78%] Built target color_tree_histogram\n",
      "\u001b[35m\u001b[1mConsolidate compiler generated dependencies of target test_mapcollection\u001b[0m\n",
      "[ 80%] Built target test_mapcollection\n",
      "\u001b[35m\u001b[1mConsolidate compiler generated dependencies of target test_pruning\u001b[0m\n",
      "[ 83%] Built target test_pruning\n",
      "\u001b[35m\u001b[1mConsolidate compiler generated dependencies of target test_bbx\u001b[0m\n",
      "[ 85%] Built target test_bbx\n",
      "\u001b[35m\u001b[1mConsolidate compiler generated dependencies of target unit_tests\u001b[0m\n",
      "[ 88%] Built target unit_tests\n",
      "\u001b[35m\u001b[1mConsolidate compiler generated dependencies of target dynamicedt3d\u001b[0m\n",
      "[ 90%] Built target dynamicedt3d\n",
      "\u001b[35m\u001b[1mConsolidate compiler generated dependencies of target dynamicedt3d-static\u001b[0m\n",
      "[ 92%] Built target dynamicedt3d-static\n",
      "\u001b[35m\u001b[1mConsolidate compiler generated dependencies of target exampleEDT3D\u001b[0m\n",
      "[ 95%] Built target exampleEDT3D\n",
      "\u001b[35m\u001b[1mConsolidate compiler generated dependencies of target exampleEDTOctomap\u001b[0m\n",
      "[ 97%] Built target exampleEDTOctomap\n",
      "\u001b[35m\u001b[1mConsolidate compiler generated dependencies of target exampleEDTOctomapStamped\u001b[0m\n",
      "[100%] Built target exampleEDTOctomapStamped\n",
      "resolution: 0.1\n",
      "Octree created and saved to octree_from_point_cloud.bt\n",
      "Ray from (0 0 0) at direction (1 0 0) hit the point: (3.25 0.05 0.05)\n",
      "Ray from (0 0 0) at direction (-1 0 0)  did not hit any obstacle\n",
      "Ray from (0 0 0) at direction (0 1 0) hit the point: (0.05 3.75 0.05)\n",
      "Ray from (0 0 0) at direction (0 -1 0) hit the point: (0.05 -3.95 0.05)\n",
      "Ray from (0 0 0) at direction (0 0 1) hit the point: (0.05 0.05 3.75)\n",
      "Ray from (0 0 0) at direction (0 0 -1) hit the point: (0.05 0.05 -3.95)\n",
      "Authorization required, but no authorization protocol specified\n",
      "qt.qpa.xcb: could not connect to display :1\n",
      "qt.qpa.plugin: Could not load the Qt platform plugin \"xcb\" in \"\" even though it was found.\n",
      "This application failed to start because no Qt platform plugin could be initialized. Reinstalling the application may fix this problem.\n",
      "\n",
      "Available platform plugins are: eglfs, linuxfb, minimal, minimalegl, offscreen, vnc, xcb.\n",
      "\n",
      "Aborted (core dumped)\n"
     ]
    }
   ],
   "source": [
    "!cd octomap/build && cmake .. && make\n",
    "!./octomap/bin/simple_example\n",
    "!octovis octree_from_point_cloud.bt"
   ]
  },
  {
   "cell_type": "code",
   "execution_count": 21,
   "id": "63c5f34abde513d",
   "metadata": {
    "ExecuteTime": {
     "end_time": "2024-06-10T04:47:11.028249Z",
     "start_time": "2024-06-10T04:47:11.023229Z"
    }
   },
   "outputs": [
    {
     "name": "stdout",
     "output_type": "stream",
     "text": [
      "Saved octomap space: 0.06645870208740234 MB\n"
     ]
    }
   ],
   "source": [
    "print(f\"Saved octomap space: {os.path.getsize('octree_from_point_cloud.bt') / (1024 * 1024)} MB\")"
   ]
  },
  {
   "cell_type": "markdown",
   "id": "f332124aea6cc5a9",
   "metadata": {},
   "source": [
    "## Ray Casting"
   ]
  },
  {
   "cell_type": "markdown",
   "id": "5725fba35fd91245",
   "metadata": {},
   "source": [
    "### Ray casting is a method to mark free spaces along a ray from the sensor origin to the end of the ray. This is useful for collision detection and path planning. Octomap provides a ray casting method to check if a ray is free from obstacles. This is not possible with a regular voxel grid. During octomapping, when we insert ray casting between sensor origin and the detected endpoint from the lidar, we can mark free spaces in the octomap. "
   ]
  },
  {
   "cell_type": "markdown",
   "id": "6079c40f25f22b1e",
   "metadata": {},
   "source": [
    "### Ray casting can also be used to see if a ray starting from a point, in a direction intersects with some obstacle or not within a max range. This is useful for path planning and collision detection."
   ]
  },
  {
   "cell_type": "markdown",
   "id": "e671314e27e5a5f",
   "metadata": {},
   "source": [
    "### Modify simple_example.cpp to do ray casting during octomap to insert free cells during adding points from pointcloud. Then in octovis press F to view the free space pop up. "
   ]
  },
  {
   "cell_type": "code",
   "execution_count": 22,
   "id": "ef5d822262fca0f1",
   "metadata": {
    "ExecuteTime": {
     "end_time": "2024-06-12T06:07:53.409219Z",
     "start_time": "2024-06-12T06:07:47.875201Z"
    }
   },
   "outputs": [
    {
     "name": "stdout",
     "output_type": "stream",
     "text": [
      "-- \n",
      "\n",
      "-- octomap building as Release\n",
      "-- Could NOT find Doxygen (missing: DOXYGEN_EXECUTABLE) \n",
      "-- \n",
      "\n",
      "-- Compile octomap using: make\n",
      "-- Install octomap using: make install\n",
      "--     (be sure to set the correct CMAKE_INSTALL_PREFIX before)\n",
      "-- Compile API-documentation using: make docs\n",
      "\n",
      "-- \n",
      "\n",
      "-- octovis building as Release\n",
      "-- Found octomap version: 1.10.0\n",
      "-- Could NOT find OpenGL (missing: OPENGL_opengl_LIBRARY OPENGL_glx_LIBRARY OPENGL_INCLUDE_DIR) \n",
      "-- QGLViewer includes found in /home/brain-spark/Octomap/octomap/octovis/src/extern/QGLViewer\n",
      "-- QGLViewer library not found.\n",
      "-- Trying to build libQGLViewer from source in /home/brain-spark/Octomap/octomap/octovis/src/extern/QGLViewer\n",
      "-- \t generating Makefile using qmake\n",
      "-- \t building library (this may take some time...)\n",
      "make: *** No targets specified and no makefile found.  Stop.\n",
      "\u001b[33mCMake Warning at octovis/CMakeModules/FindQGLViewer.cmake:111 (MESSAGE):\n",
      "  Could not find libQGLViewer.so, failed to build?\n",
      "Call Stack (most recent call first):\n",
      "  octovis/CMakeLists.txt:80 (FIND_PACKAGE)\n",
      "\n",
      "\u001b[0m\n",
      "\u001b[0m\n",
      "\u001b[0m\n",
      "\u001b[0mlibQGLViewer could not be found or generated.\u001b[0m\n",
      "\u001b[0mUnfortunately, the viewer (octovis) can not be built because some requirements are missing.\u001b[0m\n",
      "\u001b[0mThis will not affect the compilation of the stand-alone library and tools (octomap)\u001b[0m\n",
      "\u001b[0mSee README.txt or http://octomap.sf.net for further information.\n",
      "\u001b[0m\n",
      "-- \n",
      "\n",
      "-- dynamicEDT3D building as Release\n",
      "-- Found octomap version: 1.10.0\n",
      "-- octomap libraries: /home/brain-spark/Octomap/octomap/lib/liboctomap.so;/home/brain-spark/Octomap/octomap/lib/liboctomath.so\n",
      "-- Could NOT find Doxygen (missing: DOXYGEN_EXECUTABLE) \n",
      "-- \n",
      "\n",
      "-- Compile dynamicEDT3D using: make\n",
      "-- Install dynamicEDT3D using: make install\n",
      "--     (be sure to set the correct CMAKE_INSTALL_PREFIX before)\n",
      "-- Compile API-documentation using: make docs_dynamicEDT3D\n",
      "\n",
      "-- Configuring done\n",
      "-- Generating done\n",
      "-- Build files have been written to: /home/brain-spark/Octomap/octomap/build\n",
      "\u001b[35m\u001b[1mConsolidate compiler generated dependencies of target octomath\u001b[0m\n",
      "[  4%] Built target octomath\n",
      "\u001b[35m\u001b[1mConsolidate compiler generated dependencies of target octomath-static\u001b[0m\n",
      "[  9%] Built target octomath-static\n",
      "\u001b[35m\u001b[1mConsolidate compiler generated dependencies of target octomap\u001b[0m\n",
      "[ 21%] Built target octomap\n",
      "\u001b[35m\u001b[1mConsolidate compiler generated dependencies of target octomap-static\u001b[0m\n",
      "[ 33%] Built target octomap-static\n",
      "\u001b[35m\u001b[1mConsolidate compiler generated dependencies of target graph2tree\u001b[0m\n",
      "[ 35%] Built target graph2tree\n",
      "\u001b[35m\u001b[1mConsolidate compiler generated dependencies of target log2graph\u001b[0m\n",
      "[ 38%] Built target log2graph\n",
      "\u001b[35m\u001b[1mConsolidate compiler generated dependencies of target binvox2bt\u001b[0m\n",
      "[ 40%] Built target binvox2bt\n",
      "\u001b[35m\u001b[1mConsolidate compiler generated dependencies of target bt2vrml\u001b[0m\n",
      "[ 42%] Built target bt2vrml\n",
      "\u001b[35m\u001b[1mConsolidate compiler generated dependencies of target edit_octree\u001b[0m\n",
      "[ 45%] Built target edit_octree\n",
      "\u001b[35m\u001b[1mConsolidate compiler generated dependencies of target convert_octree\u001b[0m\n",
      "[ 47%] Built target convert_octree\n",
      "\u001b[35m\u001b[1mConsolidate compiler generated dependencies of target eval_octree_accuracy\u001b[0m\n",
      "[ 50%] Built target eval_octree_accuracy\n",
      "\u001b[35m\u001b[1mConsolidate compiler generated dependencies of target compare_octrees\u001b[0m\n",
      "[ 52%] Built target compare_octrees\n",
      "\u001b[35m\u001b[1mConsolidate compiler generated dependencies of target simple_example\u001b[0m\n",
      "[ 53%] \u001b[32mBuilding CXX object octomap/src/CMakeFiles/simple_example.dir/simple_example.cpp.o\u001b[0m\n",
      "[ 54%] \u001b[32m\u001b[1mLinking CXX executable ../../../bin/simple_example\u001b[0m\n",
      "[ 54%] Built target simple_example\n",
      "\u001b[35m\u001b[1mConsolidate compiler generated dependencies of target normals_example\u001b[0m\n",
      "[ 57%] Built target normals_example\n",
      "\u001b[35m\u001b[1mConsolidate compiler generated dependencies of target intersection_example\u001b[0m\n",
      "[ 59%] Built target intersection_example\n",
      "\u001b[35m\u001b[1mConsolidate compiler generated dependencies of target octree2pointcloud\u001b[0m\n",
      "[ 61%] Built target octree2pointcloud\n",
      "\u001b[35m\u001b[1mConsolidate compiler generated dependencies of target test_raycasting\u001b[0m\n",
      "[ 64%] Built target test_raycasting\n",
      "\u001b[35m\u001b[1mConsolidate compiler generated dependencies of target test_iterators\u001b[0m\n",
      "[ 66%] Built target test_iterators\n",
      "\u001b[35m\u001b[1mConsolidate compiler generated dependencies of target test_io\u001b[0m\n",
      "[ 69%] Built target test_io\n",
      "\u001b[35m\u001b[1mConsolidate compiler generated dependencies of target test_changedkeys\u001b[0m\n",
      "[ 71%] Built target test_changedkeys\n",
      "\u001b[35m\u001b[1mConsolidate compiler generated dependencies of target test_scans\u001b[0m\n",
      "[ 73%] Built target test_scans\n",
      "\u001b[35m\u001b[1mConsolidate compiler generated dependencies of target test_color_tree\u001b[0m\n",
      "[ 76%] Built target test_color_tree\n",
      "\u001b[35m\u001b[1mConsolidate compiler generated dependencies of target color_tree_histogram\u001b[0m\n",
      "[ 78%] Built target color_tree_histogram\n",
      "\u001b[35m\u001b[1mConsolidate compiler generated dependencies of target test_mapcollection\u001b[0m\n",
      "[ 80%] Built target test_mapcollection\n",
      "\u001b[35m\u001b[1mConsolidate compiler generated dependencies of target test_pruning\u001b[0m\n",
      "[ 83%] Built target test_pruning\n",
      "\u001b[35m\u001b[1mConsolidate compiler generated dependencies of target test_bbx\u001b[0m\n",
      "[ 85%] Built target test_bbx\n",
      "\u001b[35m\u001b[1mConsolidate compiler generated dependencies of target unit_tests\u001b[0m\n",
      "[ 88%] Built target unit_tests\n",
      "\u001b[35m\u001b[1mConsolidate compiler generated dependencies of target dynamicedt3d\u001b[0m\n",
      "[ 90%] Built target dynamicedt3d\n",
      "\u001b[35m\u001b[1mConsolidate compiler generated dependencies of target dynamicedt3d-static\u001b[0m\n",
      "[ 92%] Built target dynamicedt3d-static\n",
      "\u001b[35m\u001b[1mConsolidate compiler generated dependencies of target exampleEDT3D\u001b[0m\n",
      "[ 95%] Built target exampleEDT3D\n",
      "\u001b[35m\u001b[1mConsolidate compiler generated dependencies of target exampleEDTOctomap\u001b[0m\n",
      "[ 97%] Built target exampleEDTOctomap\n",
      "\u001b[35m\u001b[1mConsolidate compiler generated dependencies of target exampleEDTOctomapStamped\u001b[0m\n",
      "[100%] Built target exampleEDTOctomapStamped\n",
      "resolution: 0.1\n",
      "Octree created and saved to octree_from_point_cloud.bt\n",
      "Ray from (0 0 0) at direction (1 0 0) hit the point: (3.25 0.05 0.05)\n",
      "Ray from (0 0 0) at direction (-1 0 0)  did not hit any obstacle\n",
      "Ray from (0 0 0) at direction (0 1 0) hit the point: (0.05 3.75 0.05)\n",
      "Ray from (0 0 0) at direction (0 -1 0) hit the point: (0.05 -3.95 0.05)\n",
      "Ray from (0 0 0) at direction (0 0 1) hit the point: (0.05 0.05 3.75)\n",
      "Ray from (0 0 0) at direction (0 0 -1) hit the point: (0.05 0.05 -3.95)\n",
      "Authorization required, but no authorization protocol specified\n",
      "qt.qpa.xcb: could not connect to display :1\n",
      "qt.qpa.plugin: Could not load the Qt platform plugin \"xcb\" in \"\" even though it was found.\n",
      "This application failed to start because no Qt platform plugin could be initialized. Reinstalling the application may fix this problem.\n",
      "\n",
      "Available platform plugins are: eglfs, linuxfb, minimal, minimalegl, offscreen, vnc, xcb.\n",
      "\n",
      "Aborted (core dumped)\n"
     ]
    }
   ],
   "source": [
    "!cp simple_example.cpp octomap/octomap/src\n",
    "!cd octomap/build && cmake .. && make\n",
    "!./octomap/bin/simple_example\n",
    "!octovis octree_from_point_cloud.bt"
   ]
  },
  {
   "cell_type": "markdown",
   "id": "a91b642683e4194a",
   "metadata": {},
   "source": [
    "### Add code to do ray casting for collision detection along a specific direction in simple_example.cpp"
   ]
  },
  {
   "cell_type": "code",
   "execution_count": null,
   "id": "6868e2fa7e9c6b94",
   "metadata": {},
   "outputs": [],
   "source": []
  }
 ],
 "metadata": {
  "kernelspec": {
   "display_name": "Python 3 (ipykernel)",
   "language": "python",
   "name": "python3"
  },
  "language_info": {
   "codemirror_mode": {
    "name": "ipython",
    "version": 3
   },
   "file_extension": ".py",
   "mimetype": "text/x-python",
   "name": "python",
   "nbconvert_exporter": "python",
   "pygments_lexer": "ipython3",
   "version": "3.10.12"
  }
 },
 "nbformat": 4,
 "nbformat_minor": 5
}
