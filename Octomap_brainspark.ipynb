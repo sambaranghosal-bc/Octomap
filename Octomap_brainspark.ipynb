{
 "cells": [
  {
   "cell_type": "markdown",
   "id": "a24f52f9862f0cbe",
   "metadata": {},
   "source": [
    "# Brain Spark : Octomap"
   ]
  },
  {
   "cell_type": "markdown",
   "id": "cd1e3eb98050084b",
   "metadata": {},
   "source": [
    "## 1. Space of map saved on disk comparison"
   ]
  },
  {
   "cell_type": "code",
   "id": "5f5abb8a-d65e-4de3-a41b-0e2afc1ed7c9",
   "metadata": {
    "ExecuteTime": {
     "end_time": "2024-06-14T04:12:35.982607Z",
     "start_time": "2024-06-14T04:12:34.834568Z"
    }
   },
   "source": [
    "import numpy as np\n",
    "import open3d as o3d\n",
    "import os\n",
    "from scripts.regular_voxel_grid import RegularVoxelGrid, visualize_voxel_grid"
   ],
   "outputs": [
    {
     "name": "stdout",
     "output_type": "stream",
     "text": [
      "Jupyter environment detected. Enabling Open3D WebVisualizer.\n",
      "[Open3D INFO] WebRTC GUI backend enabled.\n",
      "[Open3D INFO] WebRTCWindowSystem: HTTP handshake server disabled.\n"
     ]
    }
   ],
   "execution_count": 1
  },
  {
   "cell_type": "code",
   "id": "96c3f980-2dc9-4261-bfab-185fb8cf25ff",
   "metadata": {
    "ExecuteTime": {
     "end_time": "2024-06-14T04:12:37.123989Z",
     "start_time": "2024-06-14T04:12:37.120360Z"
    }
   },
   "source": [
    "voxel_grid = RegularVoxelGrid(resolution=0.25, max_coord=10, min_coord=-10)"
   ],
   "outputs": [],
   "execution_count": 2
  },
  {
   "cell_type": "code",
   "id": "5b4da8a2-92a5-462e-87b4-dce549ee1748",
   "metadata": {
    "ExecuteTime": {
     "end_time": "2024-06-14T04:12:44.578816Z",
     "start_time": "2024-06-14T04:12:38.044711Z"
    }
   },
   "source": [
    "voxel_grid.create_regular_voxel_map()\n",
    "visualize_voxel_grid(voxel_grid.get_voxel_grid_points())"
   ],
   "outputs": [],
   "execution_count": 3
  },
  {
   "cell_type": "code",
   "id": "51162010-bb99-4e1a-9d89-aa9095aa5d43",
   "metadata": {
    "ExecuteTime": {
     "end_time": "2024-06-14T04:12:45.654947Z",
     "start_time": "2024-06-14T04:12:45.625430Z"
    }
   },
   "source": [
    "voxel_grid.save_voxel_grid_ply()\n",
    "print(f\"Saved voxel map representation space : {voxel_grid.get_saved_voxel_map_disk_size()} MB\")"
   ],
   "outputs": [
    {
     "name": "stdout",
     "output_type": "stream",
     "text": [
      "Saved voxel map representation space : 0.5860786437988281 MB\n"
     ]
    }
   ],
   "execution_count": 4
  },
  {
   "cell_type": "code",
   "id": "f15b64d1-2b70-4939-8261-a516253a7d88",
   "metadata": {
    "ExecuteTime": {
     "end_time": "2024-06-14T04:12:47.583147Z",
     "start_time": "2024-06-14T04:12:47.546045Z"
    }
   },
   "source": [
    "voxel_grid.write_voxel_grid_points_to_txt()\n"
   ],
   "outputs": [],
   "execution_count": 5
  },
  {
   "cell_type": "markdown",
   "id": "ad6b2231-83bb-48e3-9d7b-9fa61fa57b6a",
   "metadata": {},
   "source": [
    "### Creating the octomap in CPP and saving it to disk"
   ]
  },
  {
   "cell_type": "code",
   "id": "9a6853c1-6714-4567-91c0-f2aa51736d72",
   "metadata": {
    "scrolled": true,
    "ExecuteTime": {
     "end_time": "2024-06-14T04:13:46.706247Z",
     "start_time": "2024-06-14T04:13:41.920434Z"
    }
   },
   "source": [
    "# Create an Open3D Octree for visualization first\n",
    "octree = o3d.geometry.Octree(max_depth=8)  # The tree is stopped when the depth level reaches 8\n",
    "pcd = o3d.geometry.PointCloud()\n",
    "pcd.points = o3d.utility.Vector3dVector(voxel_grid.get_voxel_grid_points())\n",
    "octree.convert_from_point_cloud(pcd, size_expand=0.02)\n",
    "\n",
    "# Visualize the Octree\n",
    "o3d.visualization.draw_geometries([octree])"
   ],
   "outputs": [],
   "execution_count": 6
  },
  {
   "cell_type": "markdown",
   "id": "81a6cae0-9be4-494b-8b6f-62e6fae32fab",
   "metadata": {},
   "source": [
    "Since open3d does not allow us to save the octree, I am going to use the official Octomap repository to create the same octomap using the above points, and then save it to a usable binary file. And then check the saved file size. "
   ]
  },
  {
   "cell_type": "code",
   "id": "bd740c32c1634936",
   "metadata": {
    "ExecuteTime": {
     "end_time": "2024-06-14T04:16:06.742860Z",
     "start_time": "2024-06-14T04:16:02.696870Z"
    }
   },
   "source": [
    "if not os.path.exists('octomap_demo/build'):\n",
    "    os.makedirs('octomap_demo/build', exist_ok=True)\n",
    "!cd octomap_demo/build && cmake .. && make\n",
    "!./octomap_demo/bin/octomap_demo octomap_demo/data/voxel_grid_points.txt # will create the octomap corresponding to above voxel grid points and save it to a binary file"
   ],
   "outputs": [
    {
     "name": "stdout",
     "output_type": "stream",
     "text": [
      "-- Configuring done (0.0s)\r\n",
      "-- Generating done (0.0s)\r\n",
      "-- Build files have been written to: /home/sambaran.ghosal/BrainCorp/Sambaran/development/octomap/octomap_demo/build\r\n",
      "[ 50%] \u001B[32mBuilding CXX object CMakeFiles/octomap_demo.dir/src/simple_example.cpp.o\u001B[0m\r\n",
      "[100%] \u001B[32m\u001B[1mLinking CXX executable /home/sambaran.ghosal/BrainCorp/Sambaran/development/octomap/octomap_demo/bin/octomap_demo\u001B[0m\r\n",
      "[100%] Built target octomap_demo\r\n",
      "resolution: 0.1\r\n",
      "Writing 2183223 nodes to output stream...Octree created and saved to octree_from_point_cloud.bt\r\n",
      "Ray from (0 0 0) at direction (1 0 0)  did not hit any obstacle\r\n",
      "Ray from (0 0 0) at direction (-1 0 0) hit the point: (-6.45 0.05 0.05)\r\n",
      "Ray from (0 0 0) at direction (0 1 0) hit the point: (0.05 6.55 0.05)\r\n",
      "Ray from (0 0 0) at direction (0 -1 0) hit the point: (0.05 -3.45 0.05)\r\n",
      "Ray from (0 0 0) at direction (0 0 1)  did not hit any obstacle\r\n",
      "Ray from (0 0 0) at direction (0 0 -1)  did not hit any obstacle\r\n"
     ]
    }
   ],
   "execution_count": 9
  },
  {
   "cell_type": "code",
   "id": "7dad4e53-4c62-4f64-9026-ffc8448c8438",
   "metadata": {
    "ExecuteTime": {
     "end_time": "2024-06-14T04:18:50.875382Z",
     "start_time": "2024-06-14T04:18:50.872086Z"
    }
   },
   "source": "print(f\"Saved octomap space: {os.path.getsize('octomap_demo/bin/octree_from_point_cloud.bt') / (1024 * 1024)} MB\")",
   "outputs": [
    {
     "name": "stdout",
     "output_type": "stream",
     "text": [
      "Saved octomap space: 0.06645870208740234 MB\n"
     ]
    }
   ],
   "execution_count": 12
  },
  {
   "cell_type": "code",
   "id": "1eb3660e1248444d",
   "metadata": {
    "ExecuteTime": {
     "end_time": "2024-06-14T04:19:27.224330Z",
     "start_time": "2024-06-14T04:19:22.686394Z"
    }
   },
   "source": [
    "# Visualize the octomap\n",
    "!octovis octomap_demo/bin/octree_from_point_cloud.bt"
   ],
   "outputs": [
    {
     "name": "stdout",
     "output_type": "stream",
     "text": [
      "Reading binary octree type OcTree\r\n"
     ]
    }
   ],
   "execution_count": 13
  },
  {
   "cell_type": "markdown",
   "id": "e8197866c2532d6b",
   "metadata": {},
   "source": [
    "## 2. Dynamically adding points comparison"
   ]
  },
  {
   "cell_type": "code",
   "id": "9d1b41bcd903a54f",
   "metadata": {
    "ExecuteTime": {
     "end_time": "2024-06-14T04:19:34.464223Z",
     "start_time": "2024-06-14T04:19:34.460792Z"
    }
   },
   "source": [
    "### Another advantage of using octomap is that we can dynamically add points to the octomap and update it, no matter if the current point being added is very far from the existing points. In a regular voxel grid, if we want to add a point that is out of bounds from the initialized voxel grid space, we need to reinitialize the voxel grid with a larger space. This would require us to reinitialize the voxel grid and save it to disk again."
   ],
   "outputs": [],
   "execution_count": 14
  },
  {
   "cell_type": "code",
   "id": "1ac61336d0691feb",
   "metadata": {
    "ExecuteTime": {
     "end_time": "2024-06-14T04:19:35.504989Z",
     "start_time": "2024-06-14T04:19:35.337139Z"
    }
   },
   "source": [
    "# Add a point to the voxel grid\n",
    "voxel_grid.add_point_to_voxel_grid(np.array([20, -6, 0]))  # This point is out of bounds of the current voxel grid space. Hence trying to add will result in an error"
   ],
   "outputs": [
    {
     "ename": "IndexError",
     "evalue": "index 120 is out of bounds for axis 0 with size 80",
     "output_type": "error",
     "traceback": [
      "\u001B[0;31m---------------------------------------------------------------------------\u001B[0m",
      "\u001B[0;31mIndexError\u001B[0m                                Traceback (most recent call last)",
      "Cell \u001B[0;32mIn[15], line 2\u001B[0m\n\u001B[1;32m      1\u001B[0m \u001B[38;5;66;03m# Add a point to the voxel grid\u001B[39;00m\n\u001B[0;32m----> 2\u001B[0m \u001B[43mvoxel_grid\u001B[49m\u001B[38;5;241;43m.\u001B[39;49m\u001B[43madd_point_to_voxel_grid\u001B[49m\u001B[43m(\u001B[49m\u001B[43mnp\u001B[49m\u001B[38;5;241;43m.\u001B[39;49m\u001B[43marray\u001B[49m\u001B[43m(\u001B[49m\u001B[43m[\u001B[49m\u001B[38;5;241;43m20\u001B[39;49m\u001B[43m,\u001B[49m\u001B[43m \u001B[49m\u001B[38;5;241;43m-\u001B[39;49m\u001B[38;5;241;43m6\u001B[39;49m\u001B[43m,\u001B[49m\u001B[43m \u001B[49m\u001B[38;5;241;43m0\u001B[39;49m\u001B[43m]\u001B[49m\u001B[43m)\u001B[49m\u001B[43m)\u001B[49m  \u001B[38;5;66;03m# This point is out of bounds of the current voxel grid space. Hence trying to add will result in an error\u001B[39;00m\n",
      "File \u001B[0;32m~/BrainCorp/Sambaran/development/octomap/scripts/regular_voxel_grid.py:63\u001B[0m, in \u001B[0;36mRegularVoxelGrid.add_point_to_voxel_grid\u001B[0;34m(self, point)\u001B[0m\n\u001B[1;32m     58\u001B[0m \u001B[38;5;250m\u001B[39m\u001B[38;5;124;03m\"\"\"\u001B[39;00m\n\u001B[1;32m     59\u001B[0m \u001B[38;5;124;03mAdd a point to the voxel grid\u001B[39;00m\n\u001B[1;32m     60\u001B[0m \u001B[38;5;124;03m:param point:\u001B[39;00m\n\u001B[1;32m     61\u001B[0m \u001B[38;5;124;03m\"\"\"\u001B[39;00m\n\u001B[1;32m     62\u001B[0m voxel_index \u001B[38;5;241m=\u001B[39m np\u001B[38;5;241m.\u001B[39mfloor((point \u001B[38;5;241m-\u001B[39m \u001B[38;5;28mself\u001B[39m\u001B[38;5;241m.\u001B[39mmin_coord) \u001B[38;5;241m/\u001B[39m \u001B[38;5;28mself\u001B[39m\u001B[38;5;241m.\u001B[39mresolution)\u001B[38;5;241m.\u001B[39mastype(\u001B[38;5;28mint\u001B[39m)\n\u001B[0;32m---> 63\u001B[0m \u001B[38;5;28;43mself\u001B[39;49m\u001B[38;5;241;43m.\u001B[39;49m\u001B[43m_regular_voxel_grid\u001B[49m\u001B[43m[\u001B[49m\u001B[43mvoxel_index\u001B[49m\u001B[43m]\u001B[49m \u001B[38;5;241m=\u001B[39m \u001B[38;5;241m1\u001B[39m\n",
      "\u001B[0;31mIndexError\u001B[0m: index 120 is out of bounds for axis 0 with size 80"
     ]
    }
   ],
   "execution_count": 15
  },
  {
   "cell_type": "markdown",
   "id": "e60c296f048ea32f",
   "metadata": {},
   "source": [
    "### Adding a point to the octomap "
   ]
  },
  {
   "cell_type": "markdown",
   "id": "c4493af34830ab65",
   "metadata": {},
   "source": [
    "#### Modifying simple_example.cpp to add a point to the octomap that is far away from existing points "
   ]
  },
  {
   "cell_type": "code",
   "id": "55a7130a55548c83",
   "metadata": {
    "scrolled": true,
    "ExecuteTime": {
     "end_time": "2024-06-14T04:23:59.863514Z",
     "start_time": "2024-06-14T04:23:43.940970Z"
    }
   },
   "source": [
    "!cd octomap_demo/build && cmake .. && make\n",
    "!./octomap_demo/bin/octomap_demo octomap_demo/data/voxel_grid_points.txt\n",
    "!octovis octree_from_point_cloud.bt"
   ],
   "outputs": [
    {
     "name": "stdout",
     "output_type": "stream",
     "text": [
      "-- Configuring done (0.0s)\r\n",
      "-- Generating done (0.0s)\r\n",
      "-- Build files have been written to: /home/sambaran.ghosal/BrainCorp/Sambaran/development/octomap/octomap_demo/build\r\n",
      "[100%] Built target octomap_demo\r\n",
      "resolution: 0.1\r\n",
      "Writing 2183232 nodes to output stream...Octree created and saved to octree_from_point_cloud.bt\r\n",
      "Ray from (0 0 0) at direction (1 0 0)  did not hit any obstacle\r\n",
      "Ray from (0 0 0) at direction (-1 0 0) hit the point: (-6.45 0.05 0.05)\r\n",
      "Ray from (0 0 0) at direction (0 1 0) hit the point: (0.05 6.55 0.05)\r\n",
      "Ray from (0 0 0) at direction (0 -1 0) hit the point: (0.05 -3.45 0.05)\r\n",
      "Ray from (0 0 0) at direction (0 0 1)  did not hit any obstacle\r\n",
      "Ray from (0 0 0) at direction (0 0 -1)  did not hit any obstacle\r\n",
      "Reading binary octree type OcTree\r\n"
     ]
    }
   ],
   "execution_count": 19
  },
  {
   "cell_type": "markdown",
   "id": "15df5c1bf41b3bd0",
   "metadata": {},
   "source": [
    "### As we can see, the octomap is updated with the new point that is far away from the existing points. This is not possible with a regular voxel grid."
   ]
  },
  {
   "cell_type": "markdown",
   "id": "505bf9a7c4ad9480",
   "metadata": {},
   "source": [
    "## 3. Adaptive resolution comparison"
   ]
  },
  {
   "cell_type": "markdown",
   "id": "72ce42b9f847fd7b",
   "metadata": {},
   "source": [
    "### Octomap has the ability to adaptively change the resolution of the octree based on the points being added. This is not possible with a regular voxel grid."
   ]
  },
  {
   "cell_type": "code",
   "id": "a9e89413f3afeeb5",
   "metadata": {
    "ExecuteTime": {
     "end_time": "2024-06-14T04:24:45.789851Z",
     "start_time": "2024-06-14T04:24:45.782072Z"
    }
   },
   "source": [
    "voxel_grid = RegularVoxelGrid(resolution=0.25, max_coord=5, min_coord=-5)\n",
    "# Generate dense points in a small area (high resolution needed)\n",
    "dense_points = np.random.rand(1000, 3)\n",
    "\n",
    "# Generate sparse points in a larger area (low resolution needed)\n",
    "sparse_points = (np.random.rand(10, 3) * 2) + 2.5\n",
    "\n",
    "# Combine dense and sparse points\n",
    "points = np.vstack((dense_points, sparse_points))\n",
    "voxel_grid.add_point_to_voxel_grid(points)"
   ],
   "outputs": [],
   "execution_count": 20
  },
  {
   "cell_type": "code",
   "id": "d6b0a2661a815c89",
   "metadata": {
    "ExecuteTime": {
     "end_time": "2024-06-14T04:24:52.375393Z",
     "start_time": "2024-06-14T04:24:46.898763Z"
    }
   },
   "source": [
    "visualize_voxel_grid(voxel_grid.get_voxel_grid_points())"
   ],
   "outputs": [],
   "execution_count": 21
  },
  {
   "cell_type": "code",
   "id": "d8a88b2572917cbc",
   "metadata": {
    "ExecuteTime": {
     "end_time": "2024-06-14T04:24:56.230639Z",
     "start_time": "2024-06-14T04:24:56.206283Z"
    }
   },
   "source": "voxel_grid.write_voxel_grid_points_to_txt(filename=\"octomap_demo/data/adaptive_voxel_grid_points.txt\")",
   "outputs": [],
   "execution_count": 22
  },
  {
   "cell_type": "code",
   "id": "e8390891cf23a469",
   "metadata": {
    "ExecuteTime": {
     "end_time": "2024-06-14T04:24:57.737669Z",
     "start_time": "2024-06-14T04:24:57.723634Z"
    }
   },
   "source": [
    "voxel_grid.save_voxel_grid_ply()\n",
    "print(f\"Saved voxel map representation space : {voxel_grid.get_saved_voxel_map_disk_size()} MB\")"
   ],
   "outputs": [
    {
     "name": "stdout",
     "output_type": "stream",
     "text": [
      "Saved voxel map representation space : 0.4395942687988281 MB\n"
     ]
    }
   ],
   "execution_count": 23
  },
  {
   "cell_type": "code",
   "id": "3a98a83818597675",
   "metadata": {
    "ExecuteTime": {
     "end_time": "2024-06-14T04:25:20.481240Z",
     "start_time": "2024-06-14T04:25:10.122410Z"
    }
   },
   "source": [
    "!cd octomap_demo/build && cmake .. && make\n",
    "!./octomap_demo/bin/octomap_demo\n",
    "!octovis octree_from_point_cloud.bt"
   ],
   "outputs": [
    {
     "name": "stdout",
     "output_type": "stream",
     "text": [
      "-- Configuring done (0.0s)\r\n",
      "-- Generating done (0.0s)\r\n",
      "-- Build files have been written to: /home/sambaran.ghosal/BrainCorp/Sambaran/development/octomap/octomap_demo/build\r\n",
      "[100%] Built target octomap_demo\r\n",
      "resolution: 0.1\r\n",
      "Writing 184801 nodes to output stream...Octree created and saved to octree_from_point_cloud.bt\r\n",
      "Ray from (0 0 0) at direction (1 0 0) hit the point: (3.25 0.05 0.05)\r\n",
      "Ray from (0 0 0) at direction (-1 0 0)  did not hit any obstacle\r\n",
      "Ray from (0 0 0) at direction (0 1 0) hit the point: (0.05 3.75 0.05)\r\n",
      "Ray from (0 0 0) at direction (0 -1 0) hit the point: (0.05 -3.95 0.05)\r\n",
      "Ray from (0 0 0) at direction (0 0 1) hit the point: (0.05 0.05 3.75)\r\n",
      "Ray from (0 0 0) at direction (0 0 -1) hit the point: (0.05 0.05 -3.95)\r\n",
      "Reading binary octree type OcTree\r\n"
     ]
    }
   ],
   "execution_count": 24
  },
  {
   "cell_type": "code",
   "id": "63c5f34abde513d",
   "metadata": {
    "ExecuteTime": {
     "end_time": "2024-06-14T04:29:17.966881Z",
     "start_time": "2024-06-14T04:29:17.962015Z"
    }
   },
   "source": [
    "print(f\"Saved octomap space: {os.path.getsize('octree_from_point_cloud.bt') / (1024 * 1024)} MB\")"
   ],
   "outputs": [
    {
     "name": "stdout",
     "output_type": "stream",
     "text": [
      "Saved octomap space: 0.06647396087646484 MB\n"
     ]
    }
   ],
   "execution_count": 26
  },
  {
   "cell_type": "markdown",
   "id": "f332124aea6cc5a9",
   "metadata": {},
   "source": [
    "## Ray Casting"
   ]
  },
  {
   "cell_type": "markdown",
   "id": "5725fba35fd91245",
   "metadata": {},
   "source": [
    "### Ray casting is a method to mark free spaces along a ray from the sensor origin to the end of the ray. This is useful for collision detection and path planning. Octomap provides a ray casting method to check if a ray is free from obstacles. This is not possible with a regular voxel grid. During octomapping, when we insert ray casting between sensor origin and the detected endpoint from the lidar, we can mark free spaces in the octomap. "
   ]
  },
  {
   "cell_type": "markdown",
   "id": "6079c40f25f22b1e",
   "metadata": {},
   "source": [
    "### Ray casting can also be used to see if a ray starting from a point, in a direction intersects with some obstacle or not within a max range. This is useful for path planning and collision detection."
   ]
  },
  {
   "cell_type": "markdown",
   "id": "e671314e27e5a5f",
   "metadata": {},
   "source": "### Modify simple_example.cpp to do ray casting during octomap to insert free cells during adding points from pointcloud. Then in octovis press F to view the free space pop up. "
  },
  {
   "cell_type": "code",
   "id": "ef5d822262fca0f1",
   "metadata": {
    "ExecuteTime": {
     "end_time": "2024-06-14T04:29:51.646283Z",
     "start_time": "2024-06-14T04:29:35.793667Z"
    }
   },
   "source": [
    "!cd octomap_demo/build && cmake .. && make\n",
    "!./octomap_demo/bin/octomap_demo octomap_demo/data/voxel_grid_points.txt\n",
    "!octovis octree_from_point_cloud.bt"
   ],
   "outputs": [
    {
     "name": "stdout",
     "output_type": "stream",
     "text": [
      "-- Configuring done (0.0s)\r\n",
      "-- Generating done (0.0s)\r\n",
      "-- Build files have been written to: /home/sambaran.ghosal/BrainCorp/Sambaran/development/octomap/octomap_demo/build\r\n",
      "[100%] Built target octomap_demo\r\n",
      "resolution: 0.1\r\n",
      "Writing 2183232 nodes to output stream...Octree created and saved to octree_from_point_cloud.bt\r\n",
      "Ray from (0 0 0) at direction (1 0 0)  did not hit any obstacle\r\n",
      "Ray from (0 0 0) at direction (-1 0 0) hit the point: (-6.45 0.05 0.05)\r\n",
      "Ray from (0 0 0) at direction (0 1 0) hit the point: (0.05 6.55 0.05)\r\n",
      "Ray from (0 0 0) at direction (0 -1 0) hit the point: (0.05 -3.45 0.05)\r\n",
      "Ray from (0 0 0) at direction (0 0 1)  did not hit any obstacle\r\n",
      "Ray from (0 0 0) at direction (0 0 -1)  did not hit any obstacle\r\n",
      "Reading binary octree type OcTree\r\n"
     ]
    }
   ],
   "execution_count": 27
  },
  {
   "cell_type": "markdown",
   "id": "a91b642683e4194a",
   "metadata": {},
   "source": [
    "### Add code to do ray casting for collision detection along a specific direction in simple_example.cpp"
   ]
  },
  {
   "cell_type": "code",
   "execution_count": null,
   "id": "6868e2fa7e9c6b94",
   "metadata": {},
   "outputs": [],
   "source": []
  }
 ],
 "metadata": {
  "kernelspec": {
   "display_name": "Python 3 (ipykernel)",
   "language": "python",
   "name": "python3"
  },
  "language_info": {
   "codemirror_mode": {
    "name": "ipython",
    "version": 3
   },
   "file_extension": ".py",
   "mimetype": "text/x-python",
   "name": "python",
   "nbconvert_exporter": "python",
   "pygments_lexer": "ipython3",
   "version": "3.10.12"
  }
 },
 "nbformat": 4,
 "nbformat_minor": 5
}
