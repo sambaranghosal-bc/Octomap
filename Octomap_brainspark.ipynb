{
 "cells": [
  {
   "cell_type": "code",
   "execution_count": 44,
   "id": "5f5abb8a-d65e-4de3-a41b-0e2afc1ed7c9",
   "metadata": {},
   "outputs": [],
   "source": [
    "import numpy as np\n",
    "import open3d as o3d\n",
    "import os"
   ]
  },
  {
   "cell_type": "code",
   "execution_count": 45,
   "id": "96c3f980-2dc9-4261-bfab-185fb8cf25ff",
   "metadata": {},
   "outputs": [],
   "source": [
    "resolution = 0.25  # 25cm\n",
    "max_length = 20\n",
    "grid_size = [int(max_length / resolution)] * 3\n",
    "regular_voxel_grid = np.zeros(grid_size)\n",
    "total_voxels = int(np.prod(grid_size))"
   ]
  },
  {
   "cell_type": "code",
   "execution_count": 46,
   "id": "5b4da8a2-92a5-462e-87b4-dce549ee1748",
   "metadata": {},
   "outputs": [
    {
     "data": {
      "text/plain": [
       "512000"
      ]
     },
     "execution_count": 46,
     "metadata": {},
     "output_type": "execute_result"
    }
   ],
   "source": [
    "total_voxels"
   ]
  },
  {
   "cell_type": "code",
   "execution_count": 47,
   "id": "773d8e48-78b9-4f3c-8451-1fa2f1d632f4",
   "metadata": {},
   "outputs": [],
   "source": [
    "occuppied_voxels_count = int(total_voxels * 0.05)\n",
    "occuppied_indices = np.random.choice(total_voxels, occuppied_voxels_count, replace=False)\n",
    "occuppied_voxels = np.unravel_index(occuppied_indices, grid_size)\n",
    "regular_voxel_grid[occuppied_voxels] = 1"
   ]
  },
  {
   "cell_type": "code",
   "execution_count": 48,
   "id": "0dd38c2a-3ab5-42af-ba0b-099b49caab64",
   "metadata": {},
   "outputs": [
    {
     "data": {
      "text/plain": [
       "PointCloud with 25600 points."
      ]
     },
     "execution_count": 48,
     "metadata": {},
     "output_type": "execute_result"
    }
   ],
   "source": [
    "pointcloud = np.column_stack(occuppied_voxels)\n",
    "pcd = o3d.geometry.PointCloud()\n",
    "pcd.points = o3d.utility.Vector3dVector(pointcloud)\n",
    "pcd.paint_uniform_color([0, 1, 0])"
   ]
  },
  {
   "cell_type": "code",
   "execution_count": 49,
   "id": "5a227bd9-a1e8-48b3-ac20-3d9d9bdb462a",
   "metadata": {},
   "outputs": [],
   "source": [
    "o3d.visualization.draw_geometries([pcd])"
   ]
  },
  {
   "cell_type": "code",
   "execution_count": 50,
   "id": "51162010-bb99-4e1a-9d89-aa9095aa5d43",
   "metadata": {},
   "outputs": [
    {
     "name": "stdout",
     "output_type": "stream",
     "text": [
      "regular voxel grid map size: 0.6593780517578125 MB\n"
     ]
    }
   ],
   "source": [
    "o3d.io.write_point_cloud(\"voxel_grid.ply\", pcd)\n",
    "print(f\"regular voxel grid map size: {os.path.getsize('voxel_grid.ply') / (1024 * 1024)} MB\")"
   ]
  },
  {
   "cell_type": "code",
   "execution_count": 51,
   "id": "f15b64d1-2b70-4939-8261-a516253a7d88",
   "metadata": {},
   "outputs": [],
   "source": [
    "point_cloud_file = \"point_cloud.txt\"\n",
    "np.savetxt(point_cloud_file, pointcloud, fmt='%f %f %f')\n"
   ]
  },
  {
   "cell_type": "markdown",
   "id": "ad6b2231-83bb-48e3-9d7b-9fa61fa57b6a",
   "metadata": {},
   "source": [
    "## Octree"
   ]
  },
  {
   "cell_type": "code",
   "execution_count": 43,
   "id": "9a6853c1-6714-4567-91c0-f2aa51736d72",
   "metadata": {
    "scrolled": true
   },
   "outputs": [],
   "source": [
    "# Create an Open3D Octree\n",
    "octree = o3d.geometry.Octree(max_depth=8)  # The tree is stopped when the depth level reaches 8\n",
    "octree.convert_from_point_cloud(pcd, size_expand=0.25)\n",
    "\n",
    "# Visualize the Octree\n",
    "o3d.visualization.draw_geometries([octree])\n"
   ]
  },
  {
   "cell_type": "markdown",
   "id": "81a6cae0-9be4-494b-8b6f-62e6fae32fab",
   "metadata": {},
   "source": [
    "Since open3d does not allow us to save the octree, I am going to use the official Octomap repository to create the same octomap using the above points, and then save it to a usable binary file. And then check the saved file size. "
   ]
  },
  {
   "cell_type": "code",
   "execution_count": 56,
   "id": "7dad4e53-4c62-4f64-9026-ffc8448c8438",
   "metadata": {},
   "outputs": [
    {
     "name": "stdout",
     "output_type": "stream",
     "text": [
      "octomap size: 0.15573501586914062 MB\n"
     ]
    }
   ],
   "source": [
    "print(f\"octomap size: {os.path.getsize('OCTOMAP/bin/octree_from_point_cloud.bt') / (1024 * 1024)} MB\")"
   ]
  }
 ],
 "metadata": {
  "kernelspec": {
   "display_name": "Python 3 (ipykernel)",
   "language": "python",
   "name": "python3"
  },
  "language_info": {
   "codemirror_mode": {
    "name": "ipython",
    "version": 3
   },
   "file_extension": ".py",
   "mimetype": "text/x-python",
   "name": "python",
   "nbconvert_exporter": "python",
   "pygments_lexer": "ipython3",
   "version": "3.10.12"
  }
 },
 "nbformat": 4,
 "nbformat_minor": 5
}
